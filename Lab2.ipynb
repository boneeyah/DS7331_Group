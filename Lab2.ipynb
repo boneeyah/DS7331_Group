{
 "cells": [
  {
   "cell_type": "markdown",
   "id": "f0e9c31a-f84e-43d1-b565-0e8835d6fa93",
   "metadata": {},
   "source": [
    "# Lab 2: Classification\n",
    "## AirBnB Listings for Los Angeles Area\n",
    "### Jason McDonald, Miguel Bonilla, Zachary Bunn"
   ]
  },
  {
   "cell_type": "markdown",
   "id": "bcfeff08-63ac-4b53-b225-7e8e175bda3a",
   "metadata": {},
   "source": [
    "**Table of Contents**\n",
    "\n",
    "- [Data Preparation: Part 1](#Data-Preparation:-Part-1)\n",
    "    - [Data Wrangling](#Data-Wrangling)\n",
    "    - [Label and One-Hot Encoding](#Label-and-One-Hot-encoding)\n",
    "    - [Scaling numerical varialbes](#Scaling-numerical-variables)\n",
    "- [Data Preparation: Part 2](#Data-Preparation:-Part-2)\n",
    "- [Modeling and Evaulation 1](#Modeling-and-Evaluation-1)\n",
    "- [Modeling and Evaulation 2](#Modeling-and-Evaluation-2)\n",
    "- [Modeling and Evaulation 3](#Modeling-and-Evaluation-3)\n",
    "    - [Random Forest](#Random-Forest)\n",
    "    - [NaiveBayes](#NaiveBayes)\n",
    "    - [SVM](#SVM)\n",
    "    - [Logistic Regression](#Logistic-Regression)\n",
    "    - [KNN](#KNN)\n",
    "- [Modeling and Evaulation 4](#Modeling-and-Evaluation-4)\n",
    "- [Modeling and Evaulation 5](#Modeling-and-Evaluation-5)\n",
    "- [Modeling and Evaulation 6](#Modeling-and-Evaluation-6)\n",
    "- [Deployment](#Deployment)\n",
    "- [Exceptional Work](#Exceptional-Work)"
   ]
  },
  {
   "cell_type": "markdown",
   "id": "e6f90d81-277a-4ff5-97a2-cbd6fda6ae29",
   "metadata": {},
   "source": [
    "### Data Preparation: Part 1\n",
    "Rubric (10 pts): Define and prepare your class variables. Use proper variable representations (int, float, one-hot, etc.). Use pre-processing methods (as needed) for dimensionality reduction, scaling, etc. Remove variables that are not needed/useful for the analysis."
   ]
  },
  {
   "cell_type": "markdown",
   "id": "c1935ff6-ff5c-422b-8656-baa6e03a5aa1",
   "metadata": {},
   "source": [
    "#### Data Wrangling\n",
    "First of all, we will clean up the data, imputing missing values as done from previous work"
   ]
  },
  {
   "cell_type": "code",
   "execution_count": 1,
   "id": "a97c373f-1542-4174-961a-250e3f4f2c1b",
   "metadata": {},
   "outputs": [],
   "source": [
    "# import packages\n",
    "import pandas as pd\n",
    "import numpy as np\n",
    "import plotly.express as px\n",
    "import plotly.graph_objects as go\n",
    "\n",
    "#df = pd.read_csv(\"https://media.githubusercontent.com/media/boneeyah/DS7331_Group/main/Data_Files/airbnb_los_angeles.csv\")\n",
    "df = pd.read_csv(\"Data_Files/airbnb_los_angeles.csv\")"
   ]
  },
  {
   "cell_type": "code",
   "execution_count": 2,
   "id": "fdb24996-dfda-47d7-b303-7d83c6372ed6",
   "metadata": {},
   "outputs": [],
   "source": [
    "# Removing variables which will not be useful for the classification analysis\n",
    "for col in [\n",
    "    'listing_url','scrape_id','last_scraped','description','neighborhood_overview','picture_url','host_url','host_about','host_response_time','host_response_rate','host_acceptance_rate',\n",
    "    'host_thumbnail_url','host_picture_url','host_verifications','host_has_profile_pic','bathroom_text','host_listings_count','host_neighbourhood','bathrooms','minimum_minimum_nights',\n",
    "    'maximum_minimum_nights','minimum_maximum_nights','maximum_maximum_nights','minimum_nights_avg_ntm','maximum_nights_avg_ntm','calendar_updated','availability_30','availability_60',\n",
    "    'availability_90','availability_365','calendar_last_scraped','number_of_reviews_ltm','number_of_reviews_l30d','review_scores_accuracy','review_scores_communication','review_scores_cleanliness',\n",
    "    'review_scores_checkin','review_scores_value','review_scores_location','calculated_host_listings_count_entire_homes','calculated_host_listings_count_private_rooms',\n",
    "    'calculated_host_listings_count_shared_rooms','reviews_per_month','neighbourhood','neighbourhood_group_cleansed', 'first_review','last_review','minimum_nights','maximum_nights','license','host_total_listings_count'\n",
    "]:\n",
    "    if col in df:\n",
    "        del df[col]"
   ]
  },
  {
   "cell_type": "code",
   "execution_count": 3,
   "id": "64f27fdb-ac70-4d88-81d5-dcb13ab38e03",
   "metadata": {},
   "outputs": [
    {
     "data": {
      "text/plain": [
       "Entire unit     22767\n",
       "Private room     8081\n",
       "Shared room       510\n",
       "Room              401\n",
       "other             298\n",
       "Hotel room        272\n",
       "Name: property_type, dtype: int64"
      ]
     },
     "execution_count": 3,
     "metadata": {},
     "output_type": "execute_result"
    }
   ],
   "source": [
    "# remove nulls\n",
    "df = df[~df.review_scores_rating.isnull() & ~df.bathrooms_text.isnull() & ~df.host_since.isnull() & ~df.host_location.isnull()]\n",
    "\n",
    "## getting property type from string\n",
    "types = ['Private room', 'Entire', 'Room in hotel','Room','Shared room']\n",
    "pat = '|'.join(r\"\\b{}\\b\".format(x) for x in types)\n",
    "\n",
    "df['property_type']= df['property_type'].str.extract('('+ pat + ')', expand = False)\n",
    "df['property_type'] = (df.property_type.\n",
    "                       fillna(value = 'other').\n",
    "                       replace(['Entire','Room in hotel'],['Entire unit','Hotel room']))\n",
    "df['property_type'].value_counts()"
   ]
  },
  {
   "cell_type": "code",
   "execution_count": 4,
   "id": "be758c2f-0356-4610-bf5e-7f724edaaa70",
   "metadata": {},
   "outputs": [],
   "source": [
    "# impute values based on median\n",
    "df['beds'] = df[['accommodates','beds']].groupby(by = 'accommodates').transform(lambda grp: grp.fillna(grp.median()))\n",
    "df_grouped = df.groupby(by = ['property_type','beds'])\n",
    "df_imputed = df_grouped[['beds','bedrooms']].transform(lambda grp: grp.fillna(grp.median()))\n",
    "\n",
    "index = df_imputed[df_imputed.bedrooms.isnull()].index\n",
    "df = df.drop(index= index)\n",
    "\n",
    "df['imputed']=df_imputed[['bedrooms']]\n",
    "\n",
    "# replace 'bedrooms' column with imputed column and deleting the duplicated column\n",
    "df['bedrooms'] = df['imputed']\n",
    "del df['imputed']"
   ]
  },
  {
   "cell_type": "code",
   "execution_count": 5,
   "id": "5a42c58a-bc28-44c1-b1bd-c7d59d587e04",
   "metadata": {},
   "outputs": [],
   "source": [
    "## fixing variable types\n",
    "df['host_since'] = pd.to_datetime(df.host_since)\n",
    "df['price'] = df['price'].replace('[\\$,]','',regex = True).astype(float)\n",
    "df['bathrooms_text'] = df['bathrooms_text'].replace(['Half-bath', 'Shared half-bath', 'Private half-bath'],['0.5 bath','0.5 shared bath', '0.5 private bath'])\n",
    "df_bathrooms = df['bathrooms_text'].str.split(n=1, expand=True).rename(columns = {0:'bathroom_number',1:'bathroom_type'})\n",
    "df_bathrooms['bathroom_type'] = df_bathrooms.bathroom_type.fillna(value = 'bath')\n",
    "df_bathrooms['bathroom_type'] = df_bathrooms['bathroom_type'].replace(['baths','shared baths'],['bath','shared bath'])\n",
    "df_bathrooms['bathroom_number'] = df_bathrooms['bathroom_number'].astype('float')\n",
    "df.insert(15, 'bathroom_number',df_bathrooms['bathroom_number'])\n",
    "df.insert(16, 'bathroom_type', df_bathrooms['bathroom_type'])\n",
    "del df['bathrooms_text']"
   ]
  },
  {
   "cell_type": "code",
   "execution_count": 6,
   "id": "ce3e8dec-7262-4417-ba6b-4e305c81bb18",
   "metadata": {},
   "outputs": [],
   "source": [
    "### filter out price outliers\n",
    "df = df[(df.beds<10) & (df.price<750)]\n",
    "df = df.reset_index(drop=True)"
   ]
  },
  {
   "cell_type": "code",
   "execution_count": 7,
   "id": "991df54f-9d2d-47ef-b672-18bc2e0438b3",
   "metadata": {},
   "outputs": [
    {
     "data": {
      "text/html": [
       "<div>\n",
       "<style scoped>\n",
       "    .dataframe tbody tr th:only-of-type {\n",
       "        vertical-align: middle;\n",
       "    }\n",
       "\n",
       "    .dataframe tbody tr th {\n",
       "        vertical-align: top;\n",
       "    }\n",
       "\n",
       "    .dataframe thead th {\n",
       "        text-align: right;\n",
       "    }\n",
       "</style>\n",
       "<table border=\"1\" class=\"dataframe\">\n",
       "  <thead>\n",
       "    <tr style=\"text-align: right;\">\n",
       "      <th></th>\n",
       "      <th>count</th>\n",
       "      <th>unique</th>\n",
       "      <th>top</th>\n",
       "      <th>freq</th>\n",
       "    </tr>\n",
       "  </thead>\n",
       "  <tbody>\n",
       "    <tr>\n",
       "      <th>name</th>\n",
       "      <td>30580</td>\n",
       "      <td>29942</td>\n",
       "      <td>Boutique Hostel</td>\n",
       "      <td>46</td>\n",
       "    </tr>\n",
       "    <tr>\n",
       "      <th>host_name</th>\n",
       "      <td>30580</td>\n",
       "      <td>6604</td>\n",
       "      <td>David</td>\n",
       "      <td>249</td>\n",
       "    </tr>\n",
       "    <tr>\n",
       "      <th>host_location</th>\n",
       "      <td>30580</td>\n",
       "      <td>980</td>\n",
       "      <td>Los Angeles, California, United States</td>\n",
       "      <td>10613</td>\n",
       "    </tr>\n",
       "    <tr>\n",
       "      <th>host_is_superhost</th>\n",
       "      <td>30580</td>\n",
       "      <td>2</td>\n",
       "      <td>f</td>\n",
       "      <td>20236</td>\n",
       "    </tr>\n",
       "    <tr>\n",
       "      <th>host_identity_verified</th>\n",
       "      <td>30580</td>\n",
       "      <td>2</td>\n",
       "      <td>t</td>\n",
       "      <td>26080</td>\n",
       "    </tr>\n",
       "    <tr>\n",
       "      <th>neighbourhood_cleansed</th>\n",
       "      <td>30580</td>\n",
       "      <td>302</td>\n",
       "      <td>Long Beach</td>\n",
       "      <td>1163</td>\n",
       "    </tr>\n",
       "    <tr>\n",
       "      <th>property_type</th>\n",
       "      <td>30580</td>\n",
       "      <td>6</td>\n",
       "      <td>Entire unit</td>\n",
       "      <td>21090</td>\n",
       "    </tr>\n",
       "    <tr>\n",
       "      <th>room_type</th>\n",
       "      <td>30580</td>\n",
       "      <td>4</td>\n",
       "      <td>Entire home/apt</td>\n",
       "      <td>21433</td>\n",
       "    </tr>\n",
       "    <tr>\n",
       "      <th>bathroom_type</th>\n",
       "      <td>30580</td>\n",
       "      <td>3</td>\n",
       "      <td>bath</td>\n",
       "      <td>22738</td>\n",
       "    </tr>\n",
       "    <tr>\n",
       "      <th>amenities</th>\n",
       "      <td>30580</td>\n",
       "      <td>28937</td>\n",
       "      <td>[\"Hangers\", \"First aid kit\", \"Heating\", \"Fire ...</td>\n",
       "      <td>40</td>\n",
       "    </tr>\n",
       "    <tr>\n",
       "      <th>has_availability</th>\n",
       "      <td>30580</td>\n",
       "      <td>2</td>\n",
       "      <td>t</td>\n",
       "      <td>28785</td>\n",
       "    </tr>\n",
       "    <tr>\n",
       "      <th>instant_bookable</th>\n",
       "      <td>30580</td>\n",
       "      <td>2</td>\n",
       "      <td>f</td>\n",
       "      <td>19767</td>\n",
       "    </tr>\n",
       "  </tbody>\n",
       "</table>\n",
       "</div>"
      ],
      "text/plain": [
       "                        count unique  \\\n",
       "name                    30580  29942   \n",
       "host_name               30580   6604   \n",
       "host_location           30580    980   \n",
       "host_is_superhost       30580      2   \n",
       "host_identity_verified  30580      2   \n",
       "neighbourhood_cleansed  30580    302   \n",
       "property_type           30580      6   \n",
       "room_type               30580      4   \n",
       "bathroom_type           30580      3   \n",
       "amenities               30580  28937   \n",
       "has_availability        30580      2   \n",
       "instant_bookable        30580      2   \n",
       "\n",
       "                                                                      top  \\\n",
       "name                                                      Boutique Hostel   \n",
       "host_name                                                           David   \n",
       "host_location                      Los Angeles, California, United States   \n",
       "host_is_superhost                                                       f   \n",
       "host_identity_verified                                                  t   \n",
       "neighbourhood_cleansed                                         Long Beach   \n",
       "property_type                                                 Entire unit   \n",
       "room_type                                                 Entire home/apt   \n",
       "bathroom_type                                                        bath   \n",
       "amenities               [\"Hangers\", \"First aid kit\", \"Heating\", \"Fire ...   \n",
       "has_availability                                                        t   \n",
       "instant_bookable                                                        f   \n",
       "\n",
       "                         freq  \n",
       "name                       46  \n",
       "host_name                 249  \n",
       "host_location           10613  \n",
       "host_is_superhost       20236  \n",
       "host_identity_verified  26080  \n",
       "neighbourhood_cleansed   1163  \n",
       "property_type           21090  \n",
       "room_type               21433  \n",
       "bathroom_type           22738  \n",
       "amenities                  40  \n",
       "has_availability        28785  \n",
       "instant_bookable        19767  "
      ]
     },
     "execution_count": 7,
     "metadata": {},
     "output_type": "execute_result"
    }
   ],
   "source": [
    "# breakdown of categorical variables with number of levels (unique)\n",
    "df.iloc[:,[1,3,5,6,7,8,11,12,15,18,20,23]].describe().T"
   ]
  },
  {
   "cell_type": "markdown",
   "id": "18fe6b9d-5ecf-40f2-aafd-ac2659539937",
   "metadata": {},
   "source": [
    "This table shows the number of unique levels for categorical variables in our dataset, as well as the most common level of each variable along with its frequency count. From this table, we can see that about 1/3 of listings (10613/30580) correspond to a host who has Superhost status. Additionally the table shows that amenities has 28937 unique levels, given the way these are listed for each listing, a decission was made to drop the variable for this project."
   ]
  },
  {
   "cell_type": "markdown",
   "id": "8548494d-acb3-49c4-ab4e-3b40f2c789c7",
   "metadata": {},
   "source": [
    "#### Label and One-Hot encoding\n",
    "To be able to use categorical variables when fitting our models, we will first encode these variables using LabelEncoder and OneHotEncoder, which convert variables into categorical variables represented by binary values of 0 and 1. LabelEncoder can be used to convert binary categories into binary values of 0 and 1 for each level of the original variable. OneHotEncoder can be used to covert variables with more than two categorical variables, by creating n-1 columns (where n corresponds to the number of levels in a category)."
   ]
  },
  {
   "cell_type": "code",
   "execution_count": 8,
   "id": "b6644988-1e06-4af8-9e10-dbcadcb45608",
   "metadata": {},
   "outputs": [
    {
     "name": "stdout",
     "output_type": "stream",
     "text": [
      "host_is_superhost\n"
     ]
    },
    {
     "data": {
      "text/plain": [
       "0    20236\n",
       "1    10344\n",
       "Name: host_is_superhost, dtype: int64"
      ]
     },
     "execution_count": 8,
     "metadata": {},
     "output_type": "execute_result"
    }
   ],
   "source": [
    "# Model will focus on classifying superhost status\n",
    "# since we're encoding with binary response, we can use labelencoder from sklearn\n",
    "from sklearn.preprocessing import LabelEncoder\n",
    "label_encoder = LabelEncoder()\n",
    "df['host_is_superhost'] = label_encoder.fit_transform(df['host_is_superhost'])\n",
    "print('host_is_superhost')\n",
    "df.host_is_superhost.value_counts()"
   ]
  },
  {
   "cell_type": "markdown",
   "id": "2919c54a-8552-4969-827b-b3cdcd517741",
   "metadata": {},
   "source": [
    "The value of 0 corresponds to the status of 'f' of the original variable, a quick check shows that the value matches that which was previously found (20236 for 'f')."
   ]
  },
  {
   "cell_type": "code",
   "execution_count": 9,
   "id": "a385b132-8aa2-4189-b27d-a84b625e9c3d",
   "metadata": {},
   "outputs": [
    {
     "name": "stdout",
     "output_type": "stream",
     "text": [
      "host_identity_verified\n",
      "1    26080\n",
      "0     4500\n",
      "Name: host_identity_verified, dtype: int64\n",
      "has_availability\n",
      "1    28785\n",
      "0     1795\n",
      "Name: has_availability, dtype: int64\n",
      "instant_bookable\n",
      "0    19767\n",
      "1    10813\n",
      "Name: instant_bookable, dtype: int64\n"
     ]
    }
   ],
   "source": [
    "## encoding binary categorical variables\n",
    "# encode identity verified\n",
    "df['host_identity_verified'] = label_encoder.fit_transform(df['host_identity_verified'])\n",
    "print('host_identity_verified')\n",
    "print(df.host_identity_verified.value_counts())\n",
    "\n",
    "#encode has_availability\n",
    "df['has_availability'] = label_encoder.fit_transform(df['has_availability'])\n",
    "print('has_availability')\n",
    "print(df.has_availability.value_counts())\n",
    "\n",
    "#encode instant bookable\n",
    "df['instant_bookable'] = label_encoder.fit_transform(df['instant_bookable'])\n",
    "print('instant_bookable')\n",
    "print(df.instant_bookable.value_counts())"
   ]
  },
  {
   "cell_type": "code",
   "execution_count": 10,
   "id": "bd04ff3c-92a2-44a4-8710-aed92ae43ad4",
   "metadata": {},
   "outputs": [
    {
     "name": "stdout",
     "output_type": "stream",
     "text": [
      "host_is_local\n"
     ]
    },
    {
     "data": {
      "text/plain": [
       "0    19056\n",
       "1    11524\n",
       "Name: host_is_local, dtype: int64"
      ]
     },
     "execution_count": 10,
     "metadata": {},
     "output_type": "execute_result"
    }
   ],
   "source": [
    "### new feature host_is_local, from host_location. Binary variable of whether host lives in greater LA area or not.\n",
    "#los_angeles = pd.read_csv('Data_Files/LosAngelesNeighborhoods.csv')\n",
    "los_angeles = pd.read_csv('https://raw.githubusercontent.com/boneeyah/DS7331_Group/main/Data_Files/LosAngelesNeighborhoods.csv')\n",
    "los_angeles = los_angeles.iloc[:,0].tolist()\n",
    "\n",
    "pattern = '|'.join(los_angeles)\n",
    "df['host_is_local'] = df['host_location'].str.contains(pattern)\n",
    "\n",
    "df['host_is_local'] = label_encoder.fit_transform(df['host_is_local'])\n",
    "print('host_is_local')\n",
    "df.host_is_local.value_counts()"
   ]
  },
  {
   "cell_type": "markdown",
   "id": "98b2362d-0f69-4830-b816-ef3b039a14b8",
   "metadata": {},
   "source": [
    "With the newly created variable host_is_local replacing host_location, we now have a variable with 2 levels, as opposed to the original with over 900 categories.\n",
    "\n",
    "To convert host_since from datetime to a useable format, we made the decission to create a new variable, host_for, corresponding to the number of months since the host first listed properties on AirBnB. This was accomplished by subtracting the host_since date from the date on which the data was pulled from AirBnB (06-06-2022)."
   ]
  },
  {
   "cell_type": "code",
   "execution_count": 11,
   "id": "3f8223e0-48f6-41f0-88e0-5ff250d51e4d",
   "metadata": {},
   "outputs": [
    {
     "name": "stdout",
     "output_type": "stream",
     "text": [
      "<class 'pandas.core.frame.DataFrame'>\n",
      "RangeIndex: 30580 entries, 0 to 30579\n",
      "Data columns (total 25 columns):\n",
      " #   Column                          Non-Null Count  Dtype  \n",
      "---  ------                          --------------  -----  \n",
      " 0   id                              30580 non-null  int64  \n",
      " 1   name                            30580 non-null  object \n",
      " 2   host_id                         30580 non-null  int64  \n",
      " 3   host_name                       30580 non-null  object \n",
      " 4   host_is_superhost               30580 non-null  int64  \n",
      " 5   host_identity_verified          30580 non-null  int64  \n",
      " 6   neighbourhood_cleansed          30580 non-null  object \n",
      " 7   latitude                        30580 non-null  float64\n",
      " 8   longitude                       30580 non-null  float64\n",
      " 9   property_type                   30580 non-null  object \n",
      " 10  room_type                       30580 non-null  object \n",
      " 11  accommodates                    30580 non-null  int64  \n",
      " 12  bathroom_number                 30580 non-null  float64\n",
      " 13  bathroom_type                   30580 non-null  object \n",
      " 14  bedrooms                        30580 non-null  float64\n",
      " 15  beds                            30580 non-null  float64\n",
      " 16  amenities                       30580 non-null  object \n",
      " 17  price                           30580 non-null  float64\n",
      " 18  has_availability                30580 non-null  int64  \n",
      " 19  number_of_reviews               30580 non-null  int64  \n",
      " 20  review_scores_rating            30580 non-null  float64\n",
      " 21  instant_bookable                30580 non-null  int64  \n",
      " 22  calculated_host_listings_count  30580 non-null  int64  \n",
      " 23  host_is_local                   30580 non-null  int64  \n",
      " 24  host_for                        30580 non-null  float64\n",
      "dtypes: float64(8), int64(10), object(7)\n",
      "memory usage: 5.8+ MB\n"
     ]
    }
   ],
   "source": [
    "## new feature host_for, a numerical variable that corresponds to length in months since becoming host\n",
    "## data is from June 6 2022, 06-06-2022\n",
    "end_date = pd.to_datetime('06-06-2022', format= \"%m-%d-%Y\")\n",
    "df['host_for'] = (end_date-df.host_since)/np.timedelta64(1,'M')\n",
    "\n",
    "df = df.drop(columns= ['host_location', 'host_since']) #drop old host_location and host_since columns\n",
    "df.info()"
   ]
  },
  {
   "cell_type": "markdown",
   "id": "229d1618-10f7-461e-ba2b-ae9d09fe0dd0",
   "metadata": {},
   "source": [
    "This table shows the remaining variables which need to be One-Hot Encoded (neighbourhood_cleansed, property_type, room_type, bathroom_type) or dropped since they won't be useful for our modeling (name, host_name, amenities, id, host_id."
   ]
  },
  {
   "cell_type": "code",
   "execution_count": 12,
   "id": "bc00a844-a902-4b4d-b588-4d5e2d52c5d4",
   "metadata": {},
   "outputs": [],
   "source": [
    "# One Hot Encoding other categorical variables as a non-sparse dataframe\n",
    "from sklearn.preprocessing import OneHotEncoder\n",
    "from sklearn.compose import make_column_transformer\n",
    "\n",
    "df_temp = df[['id','neighbourhood_cleansed','property_type', 'room_type', 'bathroom_type']] # to get only the cat variables\n"
   ]
  },
  {
   "cell_type": "code",
   "execution_count": 13,
   "id": "c23897c3-91b6-4a01-bb57-32195c8e7a8e",
   "metadata": {},
   "outputs": [],
   "source": [
    "ohe = OneHotEncoder(drop='first',sparse=True)\n",
    "feature_arr = ohe.fit_transform(df_temp[['neighbourhood_cleansed','property_type', 'room_type', 'bathroom_type']])\n",
    "feature_labels = ohe.get_feature_names_out()\n",
    "\n",
    "#create dataframe with features\n",
    "df_temp = pd.DataFrame.sparse.from_spmatrix(feature_arr,columns=feature_labels)"
   ]
  },
  {
   "cell_type": "code",
   "execution_count": 14,
   "id": "1c09fcc8-0b51-4acc-8cb9-cddf4ec34169",
   "metadata": {},
   "outputs": [
    {
     "name": "stdout",
     "output_type": "stream",
     "text": [
      "<class 'pandas.core.frame.DataFrame'>\n",
      "RangeIndex: 30580 entries, 0 to 30579\n",
      "Columns: 311 entries, neighbourhood_cleansed_Adams-Normandie to bathroom_type_shared bath\n",
      "dtypes: Sparse[float64, 0](311)\n",
      "memory usage: 668.7 KB\n"
     ]
    }
   ],
   "source": [
    "df_temp.info()"
   ]
  },
  {
   "cell_type": "code",
   "execution_count": 15,
   "id": "d5d2b286-dea0-4561-9354-e46c136ad660",
   "metadata": {},
   "outputs": [
    {
     "name": "stdout",
     "output_type": "stream",
     "text": [
      "<class 'pandas.core.frame.DataFrame'>\n",
      "RangeIndex: 30580 entries, 0 to 30579\n",
      "Columns: 325 entries, host_is_superhost to bathroom_type_shared bath\n",
      "dtypes: Sparse[float64, 0](311), float64(6), int64(8)\n",
      "memory usage: 3.9 MB\n"
     ]
    }
   ],
   "source": [
    "# drop original columns and join with new onehotencoded columns\n",
    "df = df.drop(columns = ['neighbourhood_cleansed','property_type', 'room_type', 'bathroom_type','amenities','name','host_name','id','host_id','latitude','longitude']).join(df_temp)\n",
    "df.info()"
   ]
  },
  {
   "cell_type": "markdown",
   "id": "1c6ea449-c883-45aa-8950-de7d689eb1bb",
   "metadata": {},
   "source": [
    "#### Scaling numerical variables\n",
    "We will rescale our predictors using StandardScaler to ensure all variables are on the same scale so that variable importance is not influenced by the range of values of a variable"
   ]
  },
  {
   "cell_type": "code",
   "execution_count": 16,
   "id": "037d73a1-fb6f-451e-a2a7-b45962751c6c",
   "metadata": {},
   "outputs": [],
   "source": [
    "from sklearn.preprocessing import StandardScaler\n",
    "num_columns = ['accommodates','bathroom_number','bedrooms','beds','price','number_of_reviews','review_scores_rating','calculated_host_listings_count','host_for']\n",
    "scaled = df[num_columns]\n",
    "scaled = pd.DataFrame(StandardScaler().fit_transform(scaled),columns=scaled.columns)\n",
    "\n",
    "df[num_columns] = scaled[num_columns]"
   ]
  },
  {
   "cell_type": "code",
   "execution_count": 17,
   "id": "f4844c2a-34bd-40b3-9b99-7c2712faf790",
   "metadata": {},
   "outputs": [
    {
     "name": "stdout",
     "output_type": "stream",
     "text": [
      "<class 'pandas.core.frame.DataFrame'>\n",
      "RangeIndex: 30580 entries, 0 to 30579\n",
      "Columns: 325 entries, host_is_superhost to bathroom_type_shared bath\n",
      "dtypes: Sparse[float64, 0](311), float64(9), int64(5)\n",
      "memory usage: 3.9 MB\n"
     ]
    }
   ],
   "source": [
    "### clean up temporary files\n",
    "del df_temp, feature_arr, feature_labels, scaled\n",
    "df.info()"
   ]
  },
  {
   "cell_type": "code",
   "execution_count": 18,
   "id": "271951bc-2400-4138-b5a4-f4b59d5bf46f",
   "metadata": {},
   "outputs": [
    {
     "data": {
      "text/html": [
       "<div>\n",
       "<style scoped>\n",
       "    .dataframe tbody tr th:only-of-type {\n",
       "        vertical-align: middle;\n",
       "    }\n",
       "\n",
       "    .dataframe tbody tr th {\n",
       "        vertical-align: top;\n",
       "    }\n",
       "\n",
       "    .dataframe thead th {\n",
       "        text-align: right;\n",
       "    }\n",
       "</style>\n",
       "<table border=\"1\" class=\"dataframe\">\n",
       "  <thead>\n",
       "    <tr style=\"text-align: right;\">\n",
       "      <th></th>\n",
       "      <th>accommodates</th>\n",
       "      <th>bathroom_number</th>\n",
       "      <th>bedrooms</th>\n",
       "      <th>beds</th>\n",
       "      <th>price</th>\n",
       "      <th>number_of_reviews</th>\n",
       "      <th>review_scores_rating</th>\n",
       "      <th>calculated_host_listings_count</th>\n",
       "      <th>host_for</th>\n",
       "    </tr>\n",
       "  </thead>\n",
       "  <tbody>\n",
       "    <tr>\n",
       "      <th>count</th>\n",
       "      <td>3.058000e+04</td>\n",
       "      <td>3.058000e+04</td>\n",
       "      <td>3.058000e+04</td>\n",
       "      <td>3.058000e+04</td>\n",
       "      <td>3.058000e+04</td>\n",
       "      <td>3.058000e+04</td>\n",
       "      <td>3.058000e+04</td>\n",
       "      <td>3.058000e+04</td>\n",
       "      <td>3.058000e+04</td>\n",
       "    </tr>\n",
       "    <tr>\n",
       "      <th>mean</th>\n",
       "      <td>3.301366e-14</td>\n",
       "      <td>-2.576025e-14</td>\n",
       "      <td>5.216341e-14</td>\n",
       "      <td>-2.753520e-14</td>\n",
       "      <td>-1.807846e-15</td>\n",
       "      <td>2.795703e-15</td>\n",
       "      <td>1.228706e-15</td>\n",
       "      <td>-8.950920e-15</td>\n",
       "      <td>-2.842752e-15</td>\n",
       "    </tr>\n",
       "    <tr>\n",
       "      <th>std</th>\n",
       "      <td>1.000016e+00</td>\n",
       "      <td>1.000016e+00</td>\n",
       "      <td>1.000016e+00</td>\n",
       "      <td>1.000016e+00</td>\n",
       "      <td>1.000016e+00</td>\n",
       "      <td>1.000016e+00</td>\n",
       "      <td>1.000016e+00</td>\n",
       "      <td>1.000016e+00</td>\n",
       "      <td>1.000016e+00</td>\n",
       "    </tr>\n",
       "    <tr>\n",
       "      <th>min</th>\n",
       "      <td>-1.107019e+00</td>\n",
       "      <td>-1.783036e+00</td>\n",
       "      <td>-6.610494e-01</td>\n",
       "      <td>-7.509706e-01</td>\n",
       "      <td>-1.243972e+00</td>\n",
       "      <td>-5.770197e-01</td>\n",
       "      <td>-7.623051e+00</td>\n",
       "      <td>-2.716875e-01</td>\n",
       "      <td>-2.069410e+00</td>\n",
       "    </tr>\n",
       "    <tr>\n",
       "      <th>25%</th>\n",
       "      <td>-7.045577e-01</td>\n",
       "      <td>-5.371434e-01</td>\n",
       "      <td>-6.610494e-01</td>\n",
       "      <td>-7.509706e-01</td>\n",
       "      <td>-7.143722e-01</td>\n",
       "      <td>-5.400700e-01</td>\n",
       "      <td>-4.401467e-02</td>\n",
       "      <td>-2.716875e-01</td>\n",
       "      <td>-7.273150e-01</td>\n",
       "    </tr>\n",
       "    <tr>\n",
       "      <th>50%</th>\n",
       "      <td>-3.020962e-01</td>\n",
       "      <td>-5.371434e-01</td>\n",
       "      <td>-6.610494e-01</td>\n",
       "      <td>-5.794827e-02</td>\n",
       "      <td>-3.259995e-01</td>\n",
       "      <td>-4.045877e-01</td>\n",
       "      <td>2.805693e-01</td>\n",
       "      <td>-2.495258e-01</td>\n",
       "      <td>6.657625e-02</td>\n",
       "    </tr>\n",
       "    <tr>\n",
       "      <th>75%</th>\n",
       "      <td>5.028269e-01</td>\n",
       "      <td>7.087490e-01</td>\n",
       "      <td>4.115008e-01</td>\n",
       "      <td>6.350741e-01</td>\n",
       "      <td>4.154395e-01</td>\n",
       "      <td>8.807517e-02</td>\n",
       "      <td>4.915489e-01</td>\n",
       "      <td>-1.387172e-01</td>\n",
       "      <td>7.201097e-01</td>\n",
       "    </tr>\n",
       "    <tr>\n",
       "      <th>max</th>\n",
       "      <td>4.929904e+00</td>\n",
       "      <td>1.254473e+01</td>\n",
       "      <td>6.846802e+00</td>\n",
       "      <td>4.793208e+00</td>\n",
       "      <td>3.974347e+00</td>\n",
       "      <td>1.803332e+01</td>\n",
       "      <td>4.915489e-01</td>\n",
       "      <td>1.149618e+01</td>\n",
       "      <td>2.918804e+00</td>\n",
       "    </tr>\n",
       "  </tbody>\n",
       "</table>\n",
       "</div>"
      ],
      "text/plain": [
       "       accommodates  bathroom_number      bedrooms          beds  \\\n",
       "count  3.058000e+04     3.058000e+04  3.058000e+04  3.058000e+04   \n",
       "mean   3.301366e-14    -2.576025e-14  5.216341e-14 -2.753520e-14   \n",
       "std    1.000016e+00     1.000016e+00  1.000016e+00  1.000016e+00   \n",
       "min   -1.107019e+00    -1.783036e+00 -6.610494e-01 -7.509706e-01   \n",
       "25%   -7.045577e-01    -5.371434e-01 -6.610494e-01 -7.509706e-01   \n",
       "50%   -3.020962e-01    -5.371434e-01 -6.610494e-01 -5.794827e-02   \n",
       "75%    5.028269e-01     7.087490e-01  4.115008e-01  6.350741e-01   \n",
       "max    4.929904e+00     1.254473e+01  6.846802e+00  4.793208e+00   \n",
       "\n",
       "              price  number_of_reviews  review_scores_rating  \\\n",
       "count  3.058000e+04       3.058000e+04          3.058000e+04   \n",
       "mean  -1.807846e-15       2.795703e-15          1.228706e-15   \n",
       "std    1.000016e+00       1.000016e+00          1.000016e+00   \n",
       "min   -1.243972e+00      -5.770197e-01         -7.623051e+00   \n",
       "25%   -7.143722e-01      -5.400700e-01         -4.401467e-02   \n",
       "50%   -3.259995e-01      -4.045877e-01          2.805693e-01   \n",
       "75%    4.154395e-01       8.807517e-02          4.915489e-01   \n",
       "max    3.974347e+00       1.803332e+01          4.915489e-01   \n",
       "\n",
       "       calculated_host_listings_count      host_for  \n",
       "count                    3.058000e+04  3.058000e+04  \n",
       "mean                    -8.950920e-15 -2.842752e-15  \n",
       "std                      1.000016e+00  1.000016e+00  \n",
       "min                     -2.716875e-01 -2.069410e+00  \n",
       "25%                     -2.716875e-01 -7.273150e-01  \n",
       "50%                     -2.495258e-01  6.657625e-02  \n",
       "75%                     -1.387172e-01  7.201097e-01  \n",
       "max                      1.149618e+01  2.918804e+00  "
      ]
     },
     "execution_count": 18,
     "metadata": {},
     "output_type": "execute_result"
    }
   ],
   "source": [
    "df[num_columns].describe()"
   ]
  },
  {
   "cell_type": "markdown",
   "id": "00da5cbd-111b-4fc9-a41e-9f7b69f4247f",
   "metadata": {},
   "source": [
    "## Data Preparation: Part 2\n",
    "Rubric  (5 pts): Describe the final dataset that is used for classification/regression (include a description of any newly formed variables you created)."
   ]
  },
  {
   "cell_type": "markdown",
   "id": "0d623e72-238d-488a-80b6-185eca993e69",
   "metadata": {},
   "source": [
    "variables:\n",
    "\n",
    "- host_is_superhost - categorical variable of whether host is a super host (1) or not (0) (label encoded)\n",
    "- host_identity_verified - categorical variable of whether host identifity has been verified (1) or not (0) (label encoded)\n",
    "- neighbourhood_cleansed - neighborhorhood on which the listing is located at (One-Hot encoded)\n",
    "- property_type - category type of listed property (one hot encoded)\n",
    "- room_type - category type of room(s) of listed property (one hot encoded)\n",
    "- accommodates - numerical feature of maximum number of guests that can stay at a listing\n",
    "- bathroom_number - new feature (from bathroom text), for number of bathrooms present at a listing\n",
    "- bathroom_type - new feature (from bathroom text) for category type of bathroom(s) at a listing (one hot encoded)\n",
    "- bedrooms - numerical feature of number of bedrooms on the listed property\n",
    "- beds - numerical variable of number of beds on the listed property\n",
    "- price - the average daily rate to rent the listed property\n",
    "- has_availability - categorical variable of whether property is available (1) or not (0) (label encoded)\n",
    "- number_of_reviews - numerical variable of number of times the property has been reviewed\n",
    "- review_scores_rating - numerical variable for the review score of the property (from 0-5)\n",
    "- instant_bookable - categorical variable of whether guest can book the listing automatically (1) or needs to be approved by host first (0) (label encoded)\n",
    "- calculated_host_listings_count - numerical variable of the total number of listings owned by the property's owner.\n",
    "- host_is_local - new feature (created from host_location), for whether the property host is local to the greater LA area (1) or not local (0) (label encoded)\n",
    "- host_for - new feature (created from host_since), for how long (in months) since the host first became an AirBnB host"
   ]
  },
  {
   "cell_type": "markdown",
   "id": "ef2d2341-ebcc-49d6-a783-ffe25b47d4c6",
   "metadata": {},
   "source": [
    "The final dataset to be used for classification and regression modeling includes numerical variables which have all been scaled (standardized by centering over the mean and scaling over the st. dev), as well as categorical variables which have been encoded as 0s and 1s using label encoding and One-Hot encoding. Our final dataset consists of 30580 entries (AirBnB listed properties in LA), with 18 features (9 categorical variables and 9 numerical variables) represented by 325 columns on a sparse dataframe format."
   ]
  },
  {
   "cell_type": "code",
   "execution_count": null,
   "id": "c2619602-3556-47da-b5f7-7c66ed26be7f",
   "metadata": {},
   "outputs": [],
   "source": []
  },
  {
   "cell_type": "markdown",
   "id": "638f9423-d358-442d-bdb4-5853290c36a7",
   "metadata": {},
   "source": [
    "## Modeling and Evaluation 1\n",
    "Rubric (10 pts): Choose and explain your evaluation metrics that you will use (i.e., accuracy,\n",
    "precision, recall, F-measure, or any metric we have discussed). Why are the measure(s) appropriate for analyzing the results of your modeling? Give a detailed explanation backing up any assertions."
   ]
  },
  {
   "cell_type": "code",
   "execution_count": 19,
   "id": "697d31f6-8bc6-499c-95a2-f6e51f5a1685",
   "metadata": {},
   "outputs": [],
   "source": [
    "### sensitivity (recall) since we want to have a model that does a better job at predicting host is superhost when host is indeed a superhost\n",
    "### for modeling eval part 4 we will use ROC (return of characteristic) as visual support"
   ]
  },
  {
   "cell_type": "code",
   "execution_count": null,
   "id": "5058f82c-9845-43a5-8d2f-93e89de6397c",
   "metadata": {},
   "outputs": [],
   "source": []
  },
  {
   "cell_type": "markdown",
   "id": "514b30a4-ecde-4307-8e92-cdd97b8a3a13",
   "metadata": {},
   "source": [
    "## Modeling and Evaluation 2\n",
    "Rubric (10 pts): Choose the method you will use for dividing your data into training and\n",
    "testing splits (i.e., are you using Stratified 10-fold cross validation? Why?). Explain why\n",
    "your chosen method is appropriate or use more than one method as appropriate. For example, if you are using time series data then you should be using continuous training and testing sets across time."
   ]
  },
  {
   "cell_type": "markdown",
   "id": "3850ea93-6a8a-4730-a1b8-799a5f0c5952",
   "metadata": {},
   "source": [
    "Stratified K-fold cross validation works better for datasets where the data is imbalanced, so we will first look into whether our response variable (host_is_superhost) is close to 50-50 or if it sufferes from imbalance"
   ]
  },
  {
   "cell_type": "code",
   "execution_count": 20,
   "id": "5bedcb39-5b3e-4705-9952-e0f028c2e3d2",
   "metadata": {},
   "outputs": [
    {
     "data": {
      "text/plain": [
       "0    20236\n",
       "1    10344\n",
       "Name: host_is_superhost, dtype: int64"
      ]
     },
     "execution_count": 20,
     "metadata": {},
     "output_type": "execute_result"
    }
   ],
   "source": [
    "df.host_is_superhost.value_counts()"
   ]
  },
  {
   "cell_type": "markdown",
   "id": "0ba430c4-409c-4735-aefc-714bc71594e5",
   "metadata": {},
   "source": [
    "We can see that the response variable is imbalanced with 10344/30580 ~ 34% superhost and 20236/30580 ~ 66% not superhost. Therefore we will use stratified 10-fold cross validation, since this methond creates folds that preserve the distribution of each class, making it a better tool for our imbalanced data."
   ]
  },
  {
   "cell_type": "code",
   "execution_count": 21,
   "id": "499ce34d-4a94-4491-a7dd-e6c758675ea7",
   "metadata": {},
   "outputs": [],
   "source": [
    "from sklearn.model_selection import StratifiedKFold\n",
    "import scipy\n",
    "\n",
    "X = df.loc[:,df.columns != 'host_is_superhost']\n",
    "y = df.loc[:,df.columns == 'host_is_superhost']\n",
    "skf = StratifiedKFold(n_splits=10, shuffle=True, random_state=1024) #setting up random seed for reproducibility"
   ]
  },
  {
   "cell_type": "markdown",
   "id": "15b7060c-b730-448b-a685-ff8eafd1fc9c",
   "metadata": {},
   "source": [
    "## Modeling and Evaluation 3\n",
    "Rubric (20 pts): Create three different classification/regression models for each task (e.g., random forest, KNN, and SVM for task one and the same or different algorithms for task two). Two modeling techniques must be new (but the third could be SVM or logistic regression). Adjust parameters as appropriate to increase generalization performance using your chosen metric. You must investigate different parameters of the algorithms!"
   ]
  },
  {
   "cell_type": "markdown",
   "id": "7be4eb9b-0b5c-4ce4-b2b3-1f11b20b6d08",
   "metadata": {},
   "source": [
    "#### Random Forest"
   ]
  },
  {
   "cell_type": "code",
   "execution_count": 23,
   "id": "6c35b496-9b08-4a5a-b5f1-28fa19bdcbd4",
   "metadata": {},
   "outputs": [
    {
     "name": "stdout",
     "output_type": "stream",
     "text": [
      "   accuracy  sensitivity  specificity\n",
      "0  0.747874     0.346228     0.953063\n",
      "1  0.734140     0.295938     0.958004\n",
      "2  0.733486     0.296905     0.956522\n",
      "3  0.745912     0.347195     0.949605\n",
      "4  0.758012     0.357834     0.962451\n",
      "5  0.750491     0.348162     0.956028\n",
      "6  0.745585     0.352657     0.946614\n",
      "7  0.730216     0.275362     0.962926\n",
      "8  0.743623     0.370048     0.934750\n",
      "9  0.729889     0.277295     0.961443\n",
      "mean accuracy:  0.7419228253760629 \n",
      "mean sensitivity:  0.32676253749334233 \n",
      "mean specificity:  0.9541405995088106\n"
     ]
    }
   ],
   "source": [
    "### random forest model with the stratified 10-fold cross validation loop\n",
    "from sklearn.ensemble import RandomForestClassifier\n",
    "from sklearn.metrics import confusion_matrix\n",
    "import scipy\n",
    "\n",
    "# random forest takes in sparse matrices, so we will convert X into a matrix using scipy\n",
    "X_mat = scipy.sparse.coo_matrix(X)\n",
    "X_mat = X_mat.tocsr()\n",
    "\n",
    "score = []\n",
    "rf_clf = RandomForestClassifier(max_depth=10, random_state=1024,n_jobs=-1)\n",
    "for train,test in skf.split(X_mat,y):\n",
    "    rf_clf.fit(X_mat[train],y.values.ravel()[train])\n",
    "    y_hat = rf_clf.predict(X_mat[test])\n",
    "    \n",
    "    cm = confusion_matrix(y.loc[test],y_hat, labels=[1,0])\n",
    "    score.append({'accuracy':(cm[0,0]+cm[1,1])/sum(cm.ravel()),\n",
    "                'sensitivity':cm[0,0]/(cm[0,0]+cm[0,1]),\n",
    "                'specificity':cm[1,1]/(cm[1,1]+cm[1,0])})\n",
    "score = pd.DataFrame(score)\n",
    "print(score)\n",
    "print('mean accuracy: ',score['accuracy'].mean(),\n",
    "     '\\nmean sensitivity: ',score['sensitivity'].mean(),\n",
    "     '\\nmean specificity: ',score['specificity'].mean())\n"
   ]
  },
  {
   "cell_type": "code",
   "execution_count": null,
   "id": "b4d36432-6412-43a6-aec3-61b584231188",
   "metadata": {},
   "outputs": [],
   "source": [
    "## repeat adjusting tuning parameters to achieve better results\n",
    "# increasing max depth (largely increases complexity), \n",
    "score = []\n",
    "rf_clf = RandomForestClassifier(max_depth=15, random_state=1024, n_jobs=-1)\n",
    "for train,test in skf.split(X_mat,y):\n",
    "    rf_clf.fit(X_mat[train],y.values.ravel()[train])\n",
    "    y_hat = rf_clf.predict(X_mat[test])\n",
    "    \n",
    "    cm = confusion_matrix(y.loc[test],y_hat, labels=[1,0])\n",
    "    score.append({'accuracy':(cm[0,0]+cm[1,1])/sum(cm.ravel()),\n",
    "                'sensitivity':cm[0,0]/(cm[0,0]+cm[0,1]),\n",
    "                'specificity':cm[1,1]/(cm[1,1]+cm[1,0])})\n",
    "score = pd.DataFrame(score)\n",
    "print(score)\n",
    "print('mean accuracy: ',score['accuracy'].mean(),\n",
    "     '\\nmean sensitivity: ',score['sensitivity'].mean(),\n",
    "     '\\nmean specificity: ',score['specificity'].mean())"
   ]
  },
  {
   "cell_type": "code",
   "execution_count": null,
   "id": "8d677b9c-ff3c-4d61-a8b2-582a10a3b8af",
   "metadata": {},
   "outputs": [],
   "source": [
    "## increasing tree depth largely increases computational cost, so we will reduce the number of estimators to compensate and keep computing time reasonable\n",
    "score = []\n",
    "rf_clf = RandomForestClassifier(max_depth=150, n_estimators = 45,random_state=1024,n_jobs=-1, class_weight='balanced')\n",
    "for train,test in skf.split(X_mat,y):\n",
    "    rf_clf.fit(X_mat[train],y.values.ravel()[train])\n",
    "    y_hat = rf_clf.predict(X_mat[test])\n",
    "    \n",
    "    cm = confusion_matrix(y.loc[test],y_hat, labels=[1,0])\n",
    "    score.append({'accuracy':(cm[0,0]+cm[1,1])/sum(cm.ravel()),\n",
    "                'sensitivity':cm[0,0]/(cm[0,0]+cm[0,1]),\n",
    "                'specificity':cm[1,1]/(cm[1,1]+cm[1,0])})\n",
    "score = pd.DataFrame(score)\n",
    "print(score)\n",
    "print('mean accuracy: ',score['accuracy'].mean(),\n",
    "     '\\nmean sensitivity: ',score['sensitivity'].mean(),\n",
    "     '\\nmean specificity: ',score['specificity'].mean())"
   ]
  },
  {
   "cell_type": "markdown",
   "id": "8150b634-e6ff-48ce-8295-2dabbb3a9d5d",
   "metadata": {},
   "source": [
    "#### NaiveBayes"
   ]
  },
  {
   "cell_type": "code",
   "execution_count": 24,
   "id": "00c94ee2-be7e-43d0-9790-73643cf759dd",
   "metadata": {},
   "outputs": [
    {
     "name": "stdout",
     "output_type": "stream",
     "text": [
      "   accuracy  sensitivity  specificity\n",
      "0  0.717462     0.553191     0.801383\n",
      "1  0.711903     0.542553     0.798419\n",
      "2  0.719097     0.534816     0.813241\n",
      "3  0.721060     0.593810     0.786067\n",
      "4  0.709287     0.558994     0.786067\n",
      "5  0.717789     0.563830     0.796443\n",
      "6  0.711903     0.553623     0.792882\n",
      "7  0.703401     0.544928     0.784478\n",
      "8  0.709941     0.548792     0.792388\n",
      "9  0.706344     0.537198     0.792882\n",
      "mean accuracy:  0.7128188358404185 \n",
      "mean sensitivity:  0.5531736420635589 \n",
      "mean specificity:  0.7944250311145151\n"
     ]
    }
   ],
   "source": [
    "from sklearn.naive_bayes import BernoulliNB\n",
    "nb_clf = BernoulliNB()\n",
    "\n",
    "score = []\n",
    "for train,test in skf.split(X_mat,y):\n",
    "    nb_clf.fit(X_mat[train],y.values.ravel()[train])\n",
    "    y_hat = nb_clf.predict(X_mat[test])\n",
    "    \n",
    "    cm = confusion_matrix(y.loc[test],y_hat,labels=[1,0])\n",
    "    score.append({'accuracy':(cm[0,0]+cm[1,1])/sum(cm.ravel()),\n",
    "                'sensitivity':cm[0,0]/(cm[0,0]+cm[0,1]),\n",
    "                'specificity':cm[1,1]/(cm[1,1]+cm[1,0])})\n",
    "score = pd.DataFrame(score)\n",
    "print(score)\n",
    "print('mean accuracy: ',score['accuracy'].mean(),\n",
    "     '\\nmean sensitivity: ',score['sensitivity'].mean(),\n",
    "     '\\nmean specificity: ',score['specificity'].mean())"
   ]
  },
  {
   "cell_type": "code",
   "execution_count": 28,
   "id": "2f630f97-6a7e-4c6d-880b-8bda25b52819",
   "metadata": {},
   "outputs": [
    {
     "data": {
      "text/html": [
       "<div>\n",
       "<style scoped>\n",
       "    .dataframe tbody tr th:only-of-type {\n",
       "        vertical-align: middle;\n",
       "    }\n",
       "\n",
       "    .dataframe tbody tr th {\n",
       "        vertical-align: top;\n",
       "    }\n",
       "\n",
       "    .dataframe thead th {\n",
       "        text-align: right;\n",
       "    }\n",
       "</style>\n",
       "<table border=\"1\" class=\"dataframe\">\n",
       "  <thead>\n",
       "    <tr style=\"text-align: right;\">\n",
       "      <th></th>\n",
       "      <th>accuracy</th>\n",
       "      <th>sensitivity</th>\n",
       "      <th>specificity</th>\n",
       "    </tr>\n",
       "    <tr>\n",
       "      <th>alpha</th>\n",
       "      <th></th>\n",
       "      <th></th>\n",
       "      <th></th>\n",
       "    </tr>\n",
       "  </thead>\n",
       "  <tbody>\n",
       "    <tr>\n",
       "      <th>0.001</th>\n",
       "      <td>0.681720</td>\n",
       "      <td>0.765567</td>\n",
       "      <td>0.638861</td>\n",
       "    </tr>\n",
       "    <tr>\n",
       "      <th>0.250</th>\n",
       "      <td>0.681851</td>\n",
       "      <td>0.766244</td>\n",
       "      <td>0.638713</td>\n",
       "    </tr>\n",
       "    <tr>\n",
       "      <th>0.500</th>\n",
       "      <td>0.681753</td>\n",
       "      <td>0.766244</td>\n",
       "      <td>0.638564</td>\n",
       "    </tr>\n",
       "    <tr>\n",
       "      <th>0.750</th>\n",
       "      <td>0.681753</td>\n",
       "      <td>0.765761</td>\n",
       "      <td>0.638811</td>\n",
       "    </tr>\n",
       "    <tr>\n",
       "      <th>0.850</th>\n",
       "      <td>0.681818</td>\n",
       "      <td>0.765857</td>\n",
       "      <td>0.638861</td>\n",
       "    </tr>\n",
       "    <tr>\n",
       "      <th>1.000</th>\n",
       "      <td>0.681818</td>\n",
       "      <td>0.765857</td>\n",
       "      <td>0.638861</td>\n",
       "    </tr>\n",
       "  </tbody>\n",
       "</table>\n",
       "</div>"
      ],
      "text/plain": [
       "       accuracy  sensitivity  specificity\n",
       "alpha                                    \n",
       "0.001  0.681720     0.765567     0.638861\n",
       "0.250  0.681851     0.766244     0.638713\n",
       "0.500  0.681753     0.766244     0.638564\n",
       "0.750  0.681753     0.765761     0.638811\n",
       "0.850  0.681818     0.765857     0.638861\n",
       "1.000  0.681818     0.765857     0.638861"
      ]
     },
     "execution_count": 28,
     "metadata": {},
     "output_type": "execute_result"
    }
   ],
   "source": [
    "### redoing NaiveBayes model\n",
    "score = []\n",
    "for train,test in skf.split(X_mat,y):\n",
    "    for i in [.001,.25,.5,.75,.85,1]:\n",
    "        nb_clf = BernoulliNB(alpha=i,fit_prior=False)\n",
    "        nb_clf.fit(X_mat[train],y.values.ravel()[train])\n",
    "        y_hat = nb_clf.predict(X_mat[test])\n",
    "\n",
    "        cm = confusion_matrix(y.loc[test],y_hat,labels=[1,0])\n",
    "        score.append({'alpha':i,'accuracy':(cm[0,0]+cm[1,1])/sum(cm.ravel()),\n",
    "                'sensitivity':cm[0,0]/(cm[0,0]+cm[0,1]),\n",
    "                'specificity':cm[1,1]/(cm[1,1]+cm[1,0])})\n",
    "score = pd.DataFrame(score)\n",
    "score.groupby('alpha').mean()"
   ]
  },
  {
   "cell_type": "code",
   "execution_count": 30,
   "id": "ac70a6ab-d5b0-4bca-94ab-6c85b51e3f63",
   "metadata": {},
   "outputs": [
    {
     "data": {
      "text/html": [
       "<div>\n",
       "<style scoped>\n",
       "    .dataframe tbody tr th:only-of-type {\n",
       "        vertical-align: middle;\n",
       "    }\n",
       "\n",
       "    .dataframe tbody tr th {\n",
       "        vertical-align: top;\n",
       "    }\n",
       "\n",
       "    .dataframe thead th {\n",
       "        text-align: right;\n",
       "    }\n",
       "</style>\n",
       "<table border=\"1\" class=\"dataframe\">\n",
       "  <thead>\n",
       "    <tr style=\"text-align: right;\">\n",
       "      <th></th>\n",
       "      <th>accuracy</th>\n",
       "      <th>sensitivity</th>\n",
       "      <th>specificity</th>\n",
       "    </tr>\n",
       "    <tr>\n",
       "      <th>binarize</th>\n",
       "      <th></th>\n",
       "      <th></th>\n",
       "      <th></th>\n",
       "    </tr>\n",
       "  </thead>\n",
       "  <tbody>\n",
       "    <tr>\n",
       "      <th>0.001</th>\n",
       "      <td>0.681916</td>\n",
       "      <td>0.766437</td>\n",
       "      <td>0.638713</td>\n",
       "    </tr>\n",
       "    <tr>\n",
       "      <th>0.002</th>\n",
       "      <td>0.681360</td>\n",
       "      <td>0.765954</td>\n",
       "      <td>0.638120</td>\n",
       "    </tr>\n",
       "    <tr>\n",
       "      <th>0.003</th>\n",
       "      <td>0.681393</td>\n",
       "      <td>0.766050</td>\n",
       "      <td>0.638120</td>\n",
       "    </tr>\n",
       "    <tr>\n",
       "      <th>0.004</th>\n",
       "      <td>0.681458</td>\n",
       "      <td>0.766050</td>\n",
       "      <td>0.638219</td>\n",
       "    </tr>\n",
       "    <tr>\n",
       "      <th>0.005</th>\n",
       "      <td>0.680706</td>\n",
       "      <td>0.763150</td>\n",
       "      <td>0.638564</td>\n",
       "    </tr>\n",
       "  </tbody>\n",
       "</table>\n",
       "</div>"
      ],
      "text/plain": [
       "          accuracy  sensitivity  specificity\n",
       "binarize                                    \n",
       "0.001     0.681916     0.766437     0.638713\n",
       "0.002     0.681360     0.765954     0.638120\n",
       "0.003     0.681393     0.766050     0.638120\n",
       "0.004     0.681458     0.766050     0.638219\n",
       "0.005     0.680706     0.763150     0.638564"
      ]
     },
     "execution_count": 30,
     "metadata": {},
     "output_type": "execute_result"
    }
   ],
   "source": [
    "score = []\n",
    "for train,test in skf.split(X_mat,y):\n",
    "    for i in [.001,.002,.003,.004,.005]:\n",
    "        nb_clf = BernoulliNB(alpha=.25, binarize=i, fit_prior=False)\n",
    "        nb_clf.fit(X_mat[train],y.values.ravel()[train])\n",
    "        y_hat = nb_clf.predict(X_mat[test])\n",
    "\n",
    "        cm = confusion_matrix(y.loc[test],y_hat,labels=[1,0])\n",
    "        score.append({'binarize':i,'accuracy':(cm[0,0]+cm[1,1])/sum(cm.ravel()),\n",
    "                'sensitivity':cm[0,0]/(cm[0,0]+cm[0,1]),\n",
    "                'specificity':cm[1,1]/(cm[1,1]+cm[1,0])})\n",
    "score = pd.DataFrame(score)\n",
    "score.groupby('binarize').mean()"
   ]
  },
  {
   "cell_type": "code",
   "execution_count": 38,
   "id": "e1c3595f-d555-467e-ad48-6bfc2c9ce568",
   "metadata": {},
   "outputs": [
    {
     "data": {
      "text/html": [
       "<style>#sk-container-id-2 {color: black;background-color: white;}#sk-container-id-2 pre{padding: 0;}#sk-container-id-2 div.sk-toggleable {background-color: white;}#sk-container-id-2 label.sk-toggleable__label {cursor: pointer;display: block;width: 100%;margin-bottom: 0;padding: 0.3em;box-sizing: border-box;text-align: center;}#sk-container-id-2 label.sk-toggleable__label-arrow:before {content: \"▸\";float: left;margin-right: 0.25em;color: #696969;}#sk-container-id-2 label.sk-toggleable__label-arrow:hover:before {color: black;}#sk-container-id-2 div.sk-estimator:hover label.sk-toggleable__label-arrow:before {color: black;}#sk-container-id-2 div.sk-toggleable__content {max-height: 0;max-width: 0;overflow: hidden;text-align: left;background-color: #f0f8ff;}#sk-container-id-2 div.sk-toggleable__content pre {margin: 0.2em;color: black;border-radius: 0.25em;background-color: #f0f8ff;}#sk-container-id-2 input.sk-toggleable__control:checked~div.sk-toggleable__content {max-height: 200px;max-width: 100%;overflow: auto;}#sk-container-id-2 input.sk-toggleable__control:checked~label.sk-toggleable__label-arrow:before {content: \"▾\";}#sk-container-id-2 div.sk-estimator input.sk-toggleable__control:checked~label.sk-toggleable__label {background-color: #d4ebff;}#sk-container-id-2 div.sk-label input.sk-toggleable__control:checked~label.sk-toggleable__label {background-color: #d4ebff;}#sk-container-id-2 input.sk-hidden--visually {border: 0;clip: rect(1px 1px 1px 1px);clip: rect(1px, 1px, 1px, 1px);height: 1px;margin: -1px;overflow: hidden;padding: 0;position: absolute;width: 1px;}#sk-container-id-2 div.sk-estimator {font-family: monospace;background-color: #f0f8ff;border: 1px dotted black;border-radius: 0.25em;box-sizing: border-box;margin-bottom: 0.5em;}#sk-container-id-2 div.sk-estimator:hover {background-color: #d4ebff;}#sk-container-id-2 div.sk-parallel-item::after {content: \"\";width: 100%;border-bottom: 1px solid gray;flex-grow: 1;}#sk-container-id-2 div.sk-label:hover label.sk-toggleable__label {background-color: #d4ebff;}#sk-container-id-2 div.sk-serial::before {content: \"\";position: absolute;border-left: 1px solid gray;box-sizing: border-box;top: 0;bottom: 0;left: 50%;z-index: 0;}#sk-container-id-2 div.sk-serial {display: flex;flex-direction: column;align-items: center;background-color: white;padding-right: 0.2em;padding-left: 0.2em;position: relative;}#sk-container-id-2 div.sk-item {position: relative;z-index: 1;}#sk-container-id-2 div.sk-parallel {display: flex;align-items: stretch;justify-content: center;background-color: white;position: relative;}#sk-container-id-2 div.sk-item::before, #sk-container-id-2 div.sk-parallel-item::before {content: \"\";position: absolute;border-left: 1px solid gray;box-sizing: border-box;top: 0;bottom: 0;left: 50%;z-index: -1;}#sk-container-id-2 div.sk-parallel-item {display: flex;flex-direction: column;z-index: 1;position: relative;background-color: white;}#sk-container-id-2 div.sk-parallel-item:first-child::after {align-self: flex-end;width: 50%;}#sk-container-id-2 div.sk-parallel-item:last-child::after {align-self: flex-start;width: 50%;}#sk-container-id-2 div.sk-parallel-item:only-child::after {width: 0;}#sk-container-id-2 div.sk-dashed-wrapped {border: 1px dashed gray;margin: 0 0.4em 0.5em 0.4em;box-sizing: border-box;padding-bottom: 0.4em;background-color: white;}#sk-container-id-2 div.sk-label label {font-family: monospace;font-weight: bold;display: inline-block;line-height: 1.2em;}#sk-container-id-2 div.sk-label-container {text-align: center;}#sk-container-id-2 div.sk-container {/* jupyter's `normalize.less` sets `[hidden] { display: none; }` but bootstrap.min.css set `[hidden] { display: none !important; }` so we also need the `!important` here to be able to override the default hidden behavior on the sphinx rendered scikit-learn.org. See: https://github.com/scikit-learn/scikit-learn/issues/21755 */display: inline-block !important;position: relative;}#sk-container-id-2 div.sk-text-repr-fallback {display: none;}</style><div id=\"sk-container-id-2\" class=\"sk-top-container\"><div class=\"sk-text-repr-fallback\"><pre>BernoulliNB(alpha=0.25, binarize=0.001, fit_prior=False)</pre><b>In a Jupyter environment, please rerun this cell to show the HTML representation or trust the notebook. <br />On GitHub, the HTML representation is unable to render, please try loading this page with nbviewer.org.</b></div><div class=\"sk-container\" hidden><div class=\"sk-item\"><div class=\"sk-estimator sk-toggleable\"><input class=\"sk-toggleable__control sk-hidden--visually\" id=\"sk-estimator-id-2\" type=\"checkbox\" checked><label for=\"sk-estimator-id-2\" class=\"sk-toggleable__label sk-toggleable__label-arrow\">BernoulliNB</label><div class=\"sk-toggleable__content\"><pre>BernoulliNB(alpha=0.25, binarize=0.001, fit_prior=False)</pre></div></div></div></div></div>"
      ],
      "text/plain": [
       "BernoulliNB(alpha=0.25, binarize=0.001, fit_prior=False)"
      ]
     },
     "execution_count": 38,
     "metadata": {},
     "output_type": "execute_result"
    }
   ],
   "source": [
    "nb_clf = BernoulliNB(alpha=.25,binarize=.001,fit_prior=False)\n",
    "nb_clf.fit(X_mat[train],y.values.ravel()[train])\n"
   ]
  },
  {
   "cell_type": "markdown",
   "id": "764b7ce7-ba96-4265-8706-f735e01046a6",
   "metadata": {},
   "source": [
    "Best results with laplace smoothing (alpha) of .25 and binarize of .001 "
   ]
  },
  {
   "cell_type": "markdown",
   "id": "55320f5d-2ee8-46c6-a677-6b6c76fa5392",
   "metadata": {},
   "source": [
    "#### SVM"
   ]
  },
  {
   "cell_type": "code",
   "execution_count": null,
   "id": "6cb235e9-18af-4db1-b740-e71be364a34c",
   "metadata": {},
   "outputs": [],
   "source": []
  },
  {
   "cell_type": "markdown",
   "id": "4adc2e55-066f-42d9-bd8e-40dc57fb3648",
   "metadata": {},
   "source": [
    "#### Logistic Regression"
   ]
  },
  {
   "cell_type": "markdown",
   "id": "2968625a-53e8-41aa-9949-61b11a33d86b",
   "metadata": {},
   "source": [
    "#### KNN"
   ]
  },
  {
   "cell_type": "markdown",
   "id": "6494e964-b5ce-49c1-8453-fc8697443a39",
   "metadata": {},
   "source": [
    "## Modeling and Evaluation 4\n",
    "Rubric (10 pts): Analyze the results using your chosen method of evaluation. Use visualizations of the results to bolster the analysis. Explain any visuals and analyze why they are interesting to someone that might use this model."
   ]
  },
  {
   "cell_type": "code",
   "execution_count": null,
   "id": "88902e92-7106-4552-91fe-5810195cef4d",
   "metadata": {},
   "outputs": [],
   "source": []
  },
  {
   "cell_type": "code",
   "execution_count": 26,
   "id": "c46364e0-fc89-4feb-a808-3ed6b60a894c",
   "metadata": {},
   "outputs": [
    {
     "data": {
      "text/plain": [
       "<sklearn.metrics._plot.roc_curve.RocCurveDisplay at 0x7f8d6314b7f0>"
      ]
     },
     "execution_count": 26,
     "metadata": {},
     "output_type": "execute_result"
    },
    {
     "data": {
      "image/png": "[encoded data removed]",
      "text/plain": [
       "<Figure size 640x480 with 1 Axes>"
      ]
     },
     "metadata": {},
     "output_type": "display_data"
    }
   ],
   "source": [
    "# ROC random forest, for the final product, we could plot all ROC curves under a single plot, leaving this in for now\n",
    "import matplotlib.pyplot as plt\n",
    "from sklearn import metrics\n",
    "metrics.RocCurveDisplay.from_estimator(rf_clf,X_mat[test],y.loc[test])"
   ]
  },
  {
   "cell_type": "code",
   "execution_count": 39,
   "id": "3338a0d0-f7e8-4cc1-b132-90a9a7581968",
   "metadata": {},
   "outputs": [
    {
     "data": {
      "text/plain": [
       "<sklearn.metrics._plot.roc_curve.RocCurveDisplay at 0x7f8d5f5c3190>"
      ]
     },
     "execution_count": 39,
     "metadata": {},
     "output_type": "execute_result"
    },
    {
     "data": {
      "image/png": "[encoded data removed]",
      "text/plain": [
       "<Figure size 640x480 with 1 Axes>"
      ]
     },
     "metadata": {},
     "output_type": "display_data"
    }
   ],
   "source": [
    "## NaiveBayes ROC\n",
    "### I don't know why this one doesn't change when the model gets refit with different parameters\n",
    "metrics.RocCurveDisplay.from_estimator(nb_clf,X_mat[test],y.loc[test])"
   ]
  },
  {
   "cell_type": "code",
   "execution_count": null,
   "id": "ecdc376f-1d78-4c2d-a6b2-e809da10bd79",
   "metadata": {},
   "outputs": [],
   "source": []
  },
  {
   "cell_type": "markdown",
   "id": "31ee5c46-c73e-47c1-bcf8-8bbcfc4e5360",
   "metadata": {},
   "source": [
    "## Modeling and Evaluation 5\n",
    "Rubric (10 pts): Discuss the advantages of each model for each classification task, if any. If there are not advantages, explain why. Is any model better than another? Is the difference significant with 95% confidence? Use proper statistical comparison methods. You must use statistical comparison techniques—be sure they are appropriate for your chosen method of validation as discussed in unit 7 of the course."
   ]
  },
  {
   "cell_type": "code",
   "execution_count": null,
   "id": "a858b267-355a-473a-91b6-a30c1eed9186",
   "metadata": {},
   "outputs": [],
   "source": []
  },
  {
   "cell_type": "code",
   "execution_count": null,
   "id": "194dfc88-24e4-48b4-8c02-4833cc67529f",
   "metadata": {},
   "outputs": [],
   "source": []
  },
  {
   "cell_type": "markdown",
   "id": "6e9e555f-f972-45e8-bcbe-9bc876de7fcc",
   "metadata": {},
   "source": [
    "## Modeling and Evaluation 6\n",
    "Rubric (10 pts): Which attributes from your analysis are most important? Use proper methods discussed in class to evaluate the importance of different attributes. Discuss the results and hypothesize about why certain attributes are more important than others for a given classification task."
   ]
  },
  {
   "cell_type": "code",
   "execution_count": null,
   "id": "08899ff2-bc3f-468e-bcd8-427465b407ec",
   "metadata": {},
   "outputs": [],
   "source": []
  },
  {
   "cell_type": "code",
   "execution_count": null,
   "id": "cb62b4d8-fd9b-4393-846e-77b2bf47ba65",
   "metadata": {},
   "outputs": [],
   "source": []
  },
  {
   "cell_type": "markdown",
   "id": "51cb089c-9bff-4ceb-9ce8-56e9db23f62e",
   "metadata": {},
   "source": [
    "## Deployment\n",
    "Rubric (5 pts): How useful is your model for interested parties (i.e., the companies or organizations that might want to use it for prediction)? How would you measure the model's value if it was used by these parties? How would your deploy your model for interested parties? What other data should be collected? How often would the model need to be updated, etc.? "
   ]
  },
  {
   "cell_type": "code",
   "execution_count": null,
   "id": "dcd30a1c-1267-4824-9906-1dcacabab00c",
   "metadata": {},
   "outputs": [],
   "source": []
  },
  {
   "cell_type": "code",
   "execution_count": null,
   "id": "e3faa050-67fe-465d-b6b4-47686d774c75",
   "metadata": {},
   "outputs": [],
   "source": []
  },
  {
   "cell_type": "markdown",
   "id": "f3fb41e0-a70f-42ca-97e7-d01af4afd1f8",
   "metadata": {},
   "source": [
    "## Exceptional Work\n",
    "Rubric (10 pts): You have free reign to provide additional analyses. One idea: grid search parameters in a parallelized fashion and visualize the performances across attributes. Which parameters are most significant for making a good model for each classification algorithm?\n"
   ]
  },
  {
   "cell_type": "code",
   "execution_count": null,
   "id": "7b085f7e-9bcd-494b-8e2f-39c066e5faa0",
   "metadata": {},
   "outputs": [],
   "source": [
    "### thinking of doing 5 models instead of 3"
   ]
  },
  {
   "cell_type": "code",
   "execution_count": null,
   "id": "9b1724ca-d335-4fb1-a0bd-c2432fa55542",
   "metadata": {},
   "outputs": [],
   "source": []
  }
 ],
 "metadata": {
  "kernelspec": {
   "display_name": "Python 3 (ipykernel)",
   "language": "python",
   "name": "python3"
  },
  "language_info": {
   "codemirror_mode": {
    "name": "ipython",
    "version": 3
   },
   "file_extension": ".py",
   "mimetype": "text/x-python",
   "name": "python",
   "nbconvert_exporter": "python",
   "pygments_lexer": "ipython3",
   "version": "3.9.12"
  }
 },
 "nbformat": 4,
 "nbformat_minor": 5
}
