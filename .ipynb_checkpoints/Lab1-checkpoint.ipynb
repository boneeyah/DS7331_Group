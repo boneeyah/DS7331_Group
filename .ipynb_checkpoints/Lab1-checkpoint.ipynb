{
 "cells": [
  {
   "cell_type": "markdown",
   "id": "193b94f8-b4f7-40e0-ac9c-06fb4e6c6fde",
   "metadata": {
    "tags": []
   },
   "source": [
    "# Lab 1\n",
    "### Jason McDonald, Miguel Bonilla, Zachary Bunn"
   ]
  },
  {
   "cell_type": "markdown",
   "id": "29b2ddfd-1e6c-4923-b366-b5d9d5ba7b79",
   "metadata": {},
   "source": [
    "## AirBnB Listings for Los Angeles Area"
   ]
  },
  {
   "cell_type": "code",
   "execution_count": 1,
   "id": "d74fee25-e99d-4a33-a772-300db2fe8c90",
   "metadata": {},
   "outputs": [],
   "source": [
    "## load pandas and import dataset from GitHub\n",
    "import pandas as pd\n",
    "\n",
    "df = pd.read_csv(\"https://raw.githubusercontent.com/boneeyah/DS7331_Group/main/Data_Files/airbnb_los_angeles.csv\")"
   ]
  },
  {
   "cell_type": "code",
   "execution_count": 2,
   "id": "40409c55-350e-4360-9cc6-a056437cbdcb",
   "metadata": {},
   "outputs": [
    {
     "data": {
      "text/html": [
       "<div>\n",
       "<style scoped>\n",
       "    .dataframe tbody tr th:only-of-type {\n",
       "        vertical-align: middle;\n",
       "    }\n",
       "\n",
       "    .dataframe tbody tr th {\n",
       "        vertical-align: top;\n",
       "    }\n",
       "\n",
       "    .dataframe thead th {\n",
       "        text-align: right;\n",
       "    }\n",
       "</style>\n",
       "<table border=\"1\" class=\"dataframe\">\n",
       "  <thead>\n",
       "    <tr style=\"text-align: right;\">\n",
       "      <th></th>\n",
       "      <th>id</th>\n",
       "      <th>name</th>\n",
       "      <th>host_id</th>\n",
       "      <th>host_name</th>\n",
       "      <th>neighbourhood_group</th>\n",
       "      <th>neighbourhood</th>\n",
       "      <th>latitude</th>\n",
       "      <th>longitude</th>\n",
       "      <th>room_type</th>\n",
       "      <th>price</th>\n",
       "      <th>minimum_nights</th>\n",
       "      <th>number_of_reviews</th>\n",
       "      <th>last_review</th>\n",
       "      <th>reviews_per_month</th>\n",
       "      <th>calculated_host_listings_count</th>\n",
       "      <th>availability_365</th>\n",
       "      <th>number_of_reviews_ltm</th>\n",
       "      <th>license</th>\n",
       "    </tr>\n",
       "  </thead>\n",
       "  <tbody>\n",
       "    <tr>\n",
       "      <th>0</th>\n",
       "      <td>109</td>\n",
       "      <td>Amazing bright elegant condo park front *UPGRA...</td>\n",
       "      <td>521</td>\n",
       "      <td>Paolo</td>\n",
       "      <td>Other Cities</td>\n",
       "      <td>Culver City</td>\n",
       "      <td>33.98301</td>\n",
       "      <td>-118.38607</td>\n",
       "      <td>Entire home/apt</td>\n",
       "      <td>115</td>\n",
       "      <td>30</td>\n",
       "      <td>2</td>\n",
       "      <td>2016-05-15</td>\n",
       "      <td>0.02</td>\n",
       "      <td>1</td>\n",
       "      <td>43</td>\n",
       "      <td>0</td>\n",
       "      <td>NaN</td>\n",
       "    </tr>\n",
       "    <tr>\n",
       "      <th>1</th>\n",
       "      <td>2708</td>\n",
       "      <td>Runyon Canyon | Beau Furn Mirror Mini-Suite Fi...</td>\n",
       "      <td>3008</td>\n",
       "      <td>Chas.</td>\n",
       "      <td>City of Los Angeles</td>\n",
       "      <td>Hollywood</td>\n",
       "      <td>34.09625</td>\n",
       "      <td>-118.34605</td>\n",
       "      <td>Private room</td>\n",
       "      <td>93</td>\n",
       "      <td>30</td>\n",
       "      <td>37</td>\n",
       "      <td>2022-03-19</td>\n",
       "      <td>0.38</td>\n",
       "      <td>1</td>\n",
       "      <td>230</td>\n",
       "      <td>8</td>\n",
       "      <td>NaN</td>\n",
       "    </tr>\n",
       "    <tr>\n",
       "      <th>2</th>\n",
       "      <td>45392</td>\n",
       "      <td>Cute Home in Mount Washington</td>\n",
       "      <td>201514</td>\n",
       "      <td>Olivia &amp; Alexey</td>\n",
       "      <td>City of Los Angeles</td>\n",
       "      <td>Mount Washington</td>\n",
       "      <td>34.10632</td>\n",
       "      <td>-118.22361</td>\n",
       "      <td>Private room</td>\n",
       "      <td>60</td>\n",
       "      <td>30</td>\n",
       "      <td>27</td>\n",
       "      <td>2022-03-31</td>\n",
       "      <td>0.20</td>\n",
       "      <td>1</td>\n",
       "      <td>329</td>\n",
       "      <td>4</td>\n",
       "      <td>NaN</td>\n",
       "    </tr>\n",
       "    <tr>\n",
       "      <th>3</th>\n",
       "      <td>2732</td>\n",
       "      <td>Zen Life at the Beach</td>\n",
       "      <td>3041</td>\n",
       "      <td>Yoga Priestess</td>\n",
       "      <td>Other Cities</td>\n",
       "      <td>Santa Monica</td>\n",
       "      <td>34.00440</td>\n",
       "      <td>-118.48095</td>\n",
       "      <td>Private room</td>\n",
       "      <td>179</td>\n",
       "      <td>7</td>\n",
       "      <td>23</td>\n",
       "      <td>2022-04-08</td>\n",
       "      <td>0.17</td>\n",
       "      <td>2</td>\n",
       "      <td>329</td>\n",
       "      <td>2</td>\n",
       "      <td>228269</td>\n",
       "    </tr>\n",
       "    <tr>\n",
       "      <th>4</th>\n",
       "      <td>45417</td>\n",
       "      <td>Silver Lake Cottage Oasis- Private Terrace- Th...</td>\n",
       "      <td>50231247</td>\n",
       "      <td>Tim</td>\n",
       "      <td>City of Los Angeles</td>\n",
       "      <td>Silver Lake</td>\n",
       "      <td>34.09574</td>\n",
       "      <td>-118.27788</td>\n",
       "      <td>Entire home/apt</td>\n",
       "      <td>135</td>\n",
       "      <td>30</td>\n",
       "      <td>154</td>\n",
       "      <td>2022-05-08</td>\n",
       "      <td>1.09</td>\n",
       "      <td>4</td>\n",
       "      <td>131</td>\n",
       "      <td>3</td>\n",
       "      <td>NaN</td>\n",
       "    </tr>\n",
       "  </tbody>\n",
       "</table>\n",
       "</div>"
      ],
      "text/plain": [
       "      id                                               name   host_id  \\\n",
       "0    109  Amazing bright elegant condo park front *UPGRA...       521   \n",
       "1   2708  Runyon Canyon | Beau Furn Mirror Mini-Suite Fi...      3008   \n",
       "2  45392                      Cute Home in Mount Washington    201514   \n",
       "3   2732                              Zen Life at the Beach      3041   \n",
       "4  45417  Silver Lake Cottage Oasis- Private Terrace- Th...  50231247   \n",
       "\n",
       "         host_name  neighbourhood_group     neighbourhood  latitude  \\\n",
       "0            Paolo         Other Cities       Culver City  33.98301   \n",
       "1            Chas.  City of Los Angeles         Hollywood  34.09625   \n",
       "2  Olivia & Alexey  City of Los Angeles  Mount Washington  34.10632   \n",
       "3   Yoga Priestess         Other Cities      Santa Monica  34.00440   \n",
       "4              Tim  City of Los Angeles       Silver Lake  34.09574   \n",
       "\n",
       "   longitude        room_type  price  minimum_nights  number_of_reviews  \\\n",
       "0 -118.38607  Entire home/apt    115              30                  2   \n",
       "1 -118.34605     Private room     93              30                 37   \n",
       "2 -118.22361     Private room     60              30                 27   \n",
       "3 -118.48095     Private room    179               7                 23   \n",
       "4 -118.27788  Entire home/apt    135              30                154   \n",
       "\n",
       "  last_review  reviews_per_month  calculated_host_listings_count  \\\n",
       "0  2016-05-15               0.02                               1   \n",
       "1  2022-03-19               0.38                               1   \n",
       "2  2022-03-31               0.20                               1   \n",
       "3  2022-04-08               0.17                               2   \n",
       "4  2022-05-08               1.09                               4   \n",
       "\n",
       "   availability_365  number_of_reviews_ltm license  \n",
       "0                43                      0     NaN  \n",
       "1               230                      8     NaN  \n",
       "2               329                      4     NaN  \n",
       "3               329                      2  228269  \n",
       "4               131                      3     NaN  "
      ]
     },
     "execution_count": 2,
     "metadata": {},
     "output_type": "execute_result"
    }
   ],
   "source": [
    "df.head()"
   ]
  },
  {
   "cell_type": "markdown",
   "id": "ecf3c39c-2a97-4903-8808-7fc86131101b",
   "metadata": {},
   "source": [
    "### Business Understanding"
   ]
  },
  {
   "cell_type": "code",
   "execution_count": null,
   "id": "dfd0f87a-95bd-4dc9-aeee-21ea00e11bbf",
   "metadata": {},
   "outputs": [],
   "source": []
  },
  {
   "cell_type": "code",
   "execution_count": null,
   "id": "2ac06370-41e4-4b54-bfd2-860e158a9313",
   "metadata": {},
   "outputs": [],
   "source": []
  },
  {
   "cell_type": "markdown",
   "id": "b1a17e4d-94e0-4095-ab6c-71964711c3e0",
   "metadata": {},
   "source": [
    "### Data Meaning Type"
   ]
  },
  {
   "cell_type": "code",
   "execution_count": null,
   "id": "f2f0b6d7-7434-47c2-9a7b-9eb6c167d405",
   "metadata": {},
   "outputs": [],
   "source": []
  },
  {
   "cell_type": "code",
   "execution_count": null,
   "id": "049a3135-d04b-453a-b155-9c4478f15196",
   "metadata": {},
   "outputs": [],
   "source": []
  },
  {
   "cell_type": "markdown",
   "id": "fca74a0a-1576-420b-abb6-097f35b87080",
   "metadata": {},
   "source": [
    "### Data Quality"
   ]
  },
  {
   "cell_type": "code",
   "execution_count": null,
   "id": "3c6637e3-e357-49ef-a6f1-5fc6b76c7838",
   "metadata": {},
   "outputs": [],
   "source": []
  },
  {
   "cell_type": "code",
   "execution_count": null,
   "id": "001bb042-c7b6-4899-b838-81c07a598733",
   "metadata": {},
   "outputs": [],
   "source": []
  },
  {
   "cell_type": "markdown",
   "id": "39de4827-0616-4268-9c95-5713a854e646",
   "metadata": {},
   "source": [
    "### Simple Statistics"
   ]
  },
  {
   "cell_type": "code",
   "execution_count": null,
   "id": "70cce6ff-d2c8-4158-8615-326dee74c284",
   "metadata": {},
   "outputs": [],
   "source": []
  },
  {
   "cell_type": "code",
   "execution_count": null,
   "id": "2daa6fd4-a753-466f-b10a-14026e5590a9",
   "metadata": {},
   "outputs": [],
   "source": []
  },
  {
   "cell_type": "markdown",
   "id": "a3aa7e00-2dd5-4131-a713-6f76e919e561",
   "metadata": {},
   "source": [
    "### Visualize Attributes"
   ]
  },
  {
   "cell_type": "code",
   "execution_count": null,
   "id": "05f3ab4e-0375-40dd-9004-4ad8a1525388",
   "metadata": {},
   "outputs": [],
   "source": []
  },
  {
   "cell_type": "code",
   "execution_count": null,
   "id": "d190ff8e-2b33-4b05-b793-84373b51bae3",
   "metadata": {},
   "outputs": [],
   "source": []
  },
  {
   "cell_type": "markdown",
   "id": "fb524fc0-d227-411a-bd54-f0a596671bf3",
   "metadata": {},
   "source": [
    "### Explore Joint Attributes"
   ]
  },
  {
   "cell_type": "code",
   "execution_count": null,
   "id": "330d7a89-5a05-4227-be8e-bbffb75d44a6",
   "metadata": {},
   "outputs": [],
   "source": []
  },
  {
   "cell_type": "code",
   "execution_count": null,
   "id": "a92aa3df-dcce-425d-a6e9-23a8928f0d1d",
   "metadata": {},
   "outputs": [],
   "source": []
  },
  {
   "cell_type": "markdown",
   "id": "dc6fd612-c65d-4f33-b9b2-4c87b7916060",
   "metadata": {},
   "source": [
    "### Explore Attributes and Class"
   ]
  },
  {
   "cell_type": "code",
   "execution_count": null,
   "id": "fdb8caf2-7bab-4858-8795-f0c201ce6b6a",
   "metadata": {},
   "outputs": [],
   "source": []
  },
  {
   "cell_type": "code",
   "execution_count": null,
   "id": "35e25abb-7ac5-494e-b16a-0658c92b17d2",
   "metadata": {},
   "outputs": [],
   "source": []
  },
  {
   "cell_type": "markdown",
   "id": "f25d3e43-f98c-4afc-8122-601f7a8ae425",
   "metadata": {},
   "source": [
    "### New Features"
   ]
  },
  {
   "cell_type": "code",
   "execution_count": null,
   "id": "54c01169-5167-4d46-9ec3-f51061fed1eb",
   "metadata": {},
   "outputs": [],
   "source": []
  },
  {
   "cell_type": "code",
   "execution_count": null,
   "id": "d49455f1-e40e-456c-8d2a-918b48eb40be",
   "metadata": {},
   "outputs": [],
   "source": []
  },
  {
   "cell_type": "markdown",
   "id": "569e5ef6-8633-493f-a9e5-866f9e81087d",
   "metadata": {},
   "source": [
    "### Exceptional Work"
   ]
  },
  {
   "cell_type": "code",
   "execution_count": null,
   "id": "591aef2d-5896-4a7c-b47f-cecbc93bd3d5",
   "metadata": {},
   "outputs": [],
   "source": []
  }
 ],
 "metadata": {
  "kernelspec": {
   "display_name": "Python 3 (ipykernel)",
   "language": "python",
   "name": "python3"
  },
  "language_info": {
   "codemirror_mode": {
    "name": "ipython",
    "version": 3
   },
   "file_extension": ".py",
   "mimetype": "text/x-python",
   "name": "python",
   "nbconvert_exporter": "python",
   "pygments_lexer": "ipython3",
   "version": "3.9.12"
  }
 },
 "nbformat": 4,
 "nbformat_minor": 5
}
