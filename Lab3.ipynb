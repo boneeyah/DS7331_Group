{
 "cells": [
  {
   "cell_type": "markdown",
   "id": "d64ef185-58a2-44cd-9cbe-41607e5d8c52",
   "metadata": {},
   "source": [
    "# Lab 3: Clustering\n",
    "\n",
    "## AirBnB Listings for Los Angeles Area\n",
    "\n",
    "### Jason McDonald, Miguel Bonilla, Zachary Bunn"
   ]
  },
  {
   "cell_type": "markdown",
   "id": "a9a99035-819c-4dd6-8504-57b2eaa78c8c",
   "metadata": {},
   "source": [
    "**Table of Contents**\n",
    "\n",
    "- [Business understanding](#Business-Understanding)\n",
    "- [Data Understanding](#Data-Understanding)\n",
    "- [Modeling and Evaluation](#Modeling-and-Evaluation)\n",
    "- [Deployment](#Deployment)\n",
    "- [Exceptional Work](#Exceptional-Work)"
   ]
  },
  {
   "cell_type": "markdown",
   "id": "d7e7044d-9345-4e0b-a6af-2e95ba898ee9",
   "metadata": {},
   "source": [
    "### Business Understanding\n",
    "(10 Points) Describbet he purpose of the data set you selected (i.e. why was this data collected in the first place?). How will you measure the effectiveness of oa a good algorithim? Why does your chosen validation method make sense for this specific dataset and the stakeholders needs?"
   ]
  },
  {
   "cell_type": "code",
   "execution_count": null,
   "id": "4051a215-11be-41a3-9b78-ff0e434cc496",
   "metadata": {},
   "outputs": [],
   "source": []
  },
  {
   "cell_type": "markdown",
   "id": "a42b6246-b1f7-4081-9ba5-ba5d6dcd4c4d",
   "metadata": {},
   "source": [
    "### Data Understanding\n",
    "(20 Points Total) (10 Points) Describe the meaning and type of data (scale, values, etc.) for each attribute in the data file. Verify data quality: Are there missing values? Duplicate data? Outliers? Are those mistakes? How do you deal with these problems?\n",
    "(10 Points) Visualize the any important attributes appropriately, Important: Provide an interpretation for any charts or graphs?"
   ]
  },
  {
   "cell_type": "code",
   "execution_count": null,
   "id": "45c8ab4a-74b7-48d4-bfcf-2a47fb047f72",
   "metadata": {},
   "outputs": [],
   "source": []
  },
  {
   "cell_type": "markdown",
   "id": "b0607d93-ff8b-4813-b0c2-6a9c67937fea",
   "metadata": {},
   "source": [
    "### Modeling and Evaluation\n",
    "(50 Points) Different tasks will require different evaluation methods. Be as thorough as possible when analayzing the data you ahve chosen and use visualizations of the results to explain the performance and expected outcomes whenever possible. Guide the reader through your analysis with plenty of discussion of the results.\n",
    "\n",
    "Option A: Cluster Analysis \n",
    "\n",
    "    • Perform cluster analysis using several clustering methods\n",
    "    \n",
    "    • How did you determine a suitable number of clusters for each method? \n",
    "    \n",
    "    • Use internal and/or external validation measures to describe and compare the clusterings and the clusters (some visual methods would be good). \n",
    "    \n",
    "    • Describe your results. What findings are the most interesting and why?\n",
    "\n",
    "Option B: Association Rule Mining\n",
    "\n",
    "    • Create frequent itemsets and association rules. \n",
    "    \n",
    "    • Use tables/visualization to discuss the found results. \n",
    "    \n",
    "    • Use several measure for evaluating how interesting different rules are. \n",
    "    \n",
    "    • Describe your results. What findings are the most compelling and why? \n",
    "\n",
    "Option C: Collaborative Filtering \n",
    "\n",
    "    • Create user-item matrices or item-item matrices using collaborative filtering \n",
    "    \n",
    "    • Determine performance of the recommendations using different performance measures and explain what each measure  \n",
    "• Use tables/visualization to discuss the found results. Explain each visualization in detail. \n",
    "    \n",
    "    • Describe your results. What findings are the most compelling and why? "
   ]
  },
  {
   "cell_type": "code",
   "execution_count": null,
   "id": "bf7b314d-dd5c-42b3-9b05-b0551ea7473b",
   "metadata": {},
   "outputs": [],
   "source": []
  },
  {
   "cell_type": "markdown",
   "id": "7a9446cf-1310-45b3-adee-fc6d80a1b80f",
   "metadata": {},
   "source": [
    "### Deployment"
   ]
  },
  {
   "cell_type": "code",
   "execution_count": null,
   "id": "355139c8-27c2-4606-9238-f5cb5bd5509c",
   "metadata": {},
   "outputs": [],
   "source": []
  },
  {
   "cell_type": "markdown",
   "id": "2abc45f7-608f-46b8-abbb-448814b8badd",
   "metadata": {},
   "source": [
    "### Exceptional Work"
   ]
  },
  {
   "cell_type": "code",
   "execution_count": null,
   "id": "d1cb8aac-e5b1-42c6-938a-9a8594c84e5b",
   "metadata": {},
   "outputs": [],
   "source": []
  }
 ],
 "metadata": {
  "kernelspec": {
   "display_name": "Python 3 (ipykernel)",
   "language": "python",
   "name": "python3"
  },
  "language_info": {
   "codemirror_mode": {
    "name": "ipython",
    "version": 3
   },
   "file_extension": ".py",
   "mimetype": "text/x-python",
   "name": "python",
   "nbconvert_exporter": "python",
   "pygments_lexer": "ipython3",
   "version": "3.9.12"
  }
 },
 "nbformat": 4,
 "nbformat_minor": 5
}
