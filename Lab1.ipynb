{
 "cells": [
  {
   "cell_type": "markdown",
   "id": "193b94f8-b4f7-40e0-ac9c-06fb4e6c6fde",
   "metadata": {
    "tags": []
   },
   "source": [
    "# Lab 1\n",
    "### Jason McDonald, Miguel Bonilla, Zachary Bunn"
   ]
  },
  {
   "cell_type": "markdown",
   "id": "29b2ddfd-1e6c-4923-b366-b5d9d5ba7b79",
   "metadata": {},
   "source": [
    "## AirBnB Listings for Los Angeles Area"
   ]
  },
  {
   "cell_type": "code",
   "execution_count": 3,
   "id": "d74fee25-e99d-4a33-a772-300db2fe8c90",
   "metadata": {},
   "outputs": [],
   "source": [
    "## load pandas and import dataset from GitHub\n",
    "import pandas as pd\n",
    "\n",
    "df = pd.read_csv(\"https://media.githubusercontent.com/media/boneeyah/DS7331_Group/main/Data_Files/airbnb_los_angeles.csv\")"
   ]
  },
  {
   "cell_type": "code",
   "execution_count": 5,
   "id": "40409c55-350e-4360-9cc6-a056437cbdcb",
   "metadata": {},
   "outputs": [
    {
     "name": "stdout",
     "output_type": "stream",
     "text": [
      "<class 'pandas.core.frame.DataFrame'>\n",
      "RangeIndex: 42041 entries, 0 to 42040\n",
      "Data columns (total 74 columns):\n",
      " #   Column                                        Non-Null Count  Dtype  \n",
      "---  ------                                        --------------  -----  \n",
      " 0   id                                            42041 non-null  int64  \n",
      " 1   listing_url                                   42041 non-null  object \n",
      " 2   scrape_id                                     42041 non-null  int64  \n",
      " 3   last_scraped                                  42041 non-null  object \n",
      " 4   name                                          42039 non-null  object \n",
      " 5   description                                   41102 non-null  object \n",
      " 6   neighborhood_overview                         25110 non-null  object \n",
      " 7   picture_url                                   42041 non-null  object \n",
      " 8   host_id                                       42041 non-null  int64  \n",
      " 9   host_url                                      42041 non-null  object \n",
      " 10  host_name                                     41858 non-null  object \n",
      " 11  host_since                                    41858 non-null  object \n",
      " 12  host_location                                 41780 non-null  object \n",
      " 13  host_about                                    24573 non-null  object \n",
      " 14  host_response_time                            33697 non-null  object \n",
      " 15  host_response_rate                            33697 non-null  object \n",
      " 16  host_acceptance_rate                          34601 non-null  object \n",
      " 17  host_is_superhost                             41858 non-null  object \n",
      " 18  host_thumbnail_url                            41858 non-null  object \n",
      " 19  host_picture_url                              41858 non-null  object \n",
      " 20  host_neighbourhood                            33140 non-null  object \n",
      " 21  host_listings_count                           41858 non-null  float64\n",
      " 22  host_total_listings_count                     41858 non-null  float64\n",
      " 23  host_verifications                            42041 non-null  object \n",
      " 24  host_has_profile_pic                          41858 non-null  object \n",
      " 25  host_identity_verified                        41858 non-null  object \n",
      " 26  neighbourhood                                 25111 non-null  object \n",
      " 27  neighbourhood_cleansed                        42041 non-null  object \n",
      " 28  neighbourhood_group_cleansed                  35328 non-null  object \n",
      " 29  latitude                                      42041 non-null  float64\n",
      " 30  longitude                                     42041 non-null  float64\n",
      " 31  property_type                                 42041 non-null  object \n",
      " 32  room_type                                     42041 non-null  object \n",
      " 33  accommodates                                  42041 non-null  int64  \n",
      " 34  bathrooms                                     0 non-null      float64\n",
      " 35  bathrooms_text                                41980 non-null  object \n",
      " 36  bedrooms                                      38308 non-null  float64\n",
      " 37  beds                                          41271 non-null  float64\n",
      " 38  amenities                                     42041 non-null  object \n",
      " 39  price                                         42041 non-null  object \n",
      " 40  minimum_nights                                42041 non-null  int64  \n",
      " 41  maximum_nights                                42041 non-null  int64  \n",
      " 42  minimum_minimum_nights                        42036 non-null  float64\n",
      " 43  maximum_minimum_nights                        42036 non-null  float64\n",
      " 44  minimum_maximum_nights                        42036 non-null  float64\n",
      " 45  maximum_maximum_nights                        42036 non-null  float64\n",
      " 46  minimum_nights_avg_ntm                        42036 non-null  float64\n",
      " 47  maximum_nights_avg_ntm                        42036 non-null  float64\n",
      " 48  calendar_updated                              0 non-null      float64\n",
      " 49  has_availability                              42041 non-null  object \n",
      " 50  availability_30                               42041 non-null  int64  \n",
      " 51  availability_60                               42041 non-null  int64  \n",
      " 52  availability_90                               42041 non-null  int64  \n",
      " 53  availability_365                              42041 non-null  int64  \n",
      " 54  calendar_last_scraped                         42041 non-null  object \n",
      " 55  number_of_reviews                             42041 non-null  int64  \n",
      " 56  number_of_reviews_ltm                         42041 non-null  int64  \n",
      " 57  number_of_reviews_l30d                        42041 non-null  int64  \n",
      " 58  first_review                                  32413 non-null  object \n",
      " 59  last_review                                   32413 non-null  object \n",
      " 60  review_scores_rating                          32413 non-null  float64\n",
      " 61  review_scores_accuracy                        32129 non-null  float64\n",
      " 62  review_scores_cleanliness                     32131 non-null  float64\n",
      " 63  review_scores_checkin                         32125 non-null  float64\n",
      " 64  review_scores_communication                   32130 non-null  float64\n",
      " 65  review_scores_location                        32123 non-null  float64\n",
      " 66  review_scores_value                           32121 non-null  float64\n",
      " 67  license                                       11004 non-null  object \n",
      " 68  instant_bookable                              42041 non-null  object \n",
      " 69  calculated_host_listings_count                42041 non-null  int64  \n",
      " 70  calculated_host_listings_count_entire_homes   42041 non-null  int64  \n",
      " 71  calculated_host_listings_count_private_rooms  42041 non-null  int64  \n",
      " 72  calculated_host_listings_count_shared_rooms   42041 non-null  int64  \n",
      " 73  reviews_per_month                             32413 non-null  float64\n",
      "dtypes: float64(22), int64(17), object(35)\n",
      "memory usage: 23.7+ MB\n"
     ]
    }
   ],
   "source": [
    "df.head()\n",
    "df.info()"
   ]
  },
  {
   "cell_type": "code",
   "execution_count": null,
   "id": "62c21583-f076-4990-83aa-5b176c8e7749",
   "metadata": {},
   "outputs": [],
   "source": [
    "df.in"
   ]
  },
  {
   "cell_type": "code",
   "execution_count": null,
   "id": "9a30aacc-4347-44f2-b672-3fa1073d7e2f",
   "metadata": {},
   "outputs": [],
   "source": []
  },
  {
   "cell_type": "code",
   "execution_count": null,
   "id": "443a772a-e01c-4f16-ae33-e1c7801d9a11",
   "metadata": {},
   "outputs": [],
   "source": []
  },
  {
   "cell_type": "code",
   "execution_count": null,
   "id": "e8bad727-a216-4c79-be24-b0d144df3dca",
   "metadata": {},
   "outputs": [],
   "source": []
  },
  {
   "cell_type": "markdown",
   "id": "ecf3c39c-2a97-4903-8808-7fc86131101b",
   "metadata": {},
   "source": [
    "### Business Understanding"
   ]
  },
  {
   "cell_type": "code",
   "execution_count": null,
   "id": "dfd0f87a-95bd-4dc9-aeee-21ea00e11bbf",
   "metadata": {},
   "outputs": [],
   "source": []
  },
  {
   "cell_type": "code",
   "execution_count": null,
   "id": "2ac06370-41e4-4b54-bfd2-860e158a9313",
   "metadata": {},
   "outputs": [],
   "source": []
  },
  {
   "cell_type": "markdown",
   "id": "b1a17e4d-94e0-4095-ab6c-71964711c3e0",
   "metadata": {},
   "source": [
    "### Data Meaning Type"
   ]
  },
  {
   "cell_type": "code",
   "execution_count": null,
   "id": "f2f0b6d7-7434-47c2-9a7b-9eb6c167d405",
   "metadata": {},
   "outputs": [],
   "source": []
  },
  {
   "cell_type": "code",
   "execution_count": null,
   "id": "049a3135-d04b-453a-b155-9c4478f15196",
   "metadata": {},
   "outputs": [],
   "source": []
  },
  {
   "cell_type": "markdown",
   "id": "fca74a0a-1576-420b-abb6-097f35b87080",
   "metadata": {},
   "source": [
    "### Data Quality"
   ]
  },
  {
   "cell_type": "code",
   "execution_count": null,
   "id": "3c6637e3-e357-49ef-a6f1-5fc6b76c7838",
   "metadata": {},
   "outputs": [],
   "source": []
  },
  {
   "cell_type": "code",
   "execution_count": null,
   "id": "001bb042-c7b6-4899-b838-81c07a598733",
   "metadata": {},
   "outputs": [],
   "source": []
  },
  {
   "cell_type": "markdown",
   "id": "39de4827-0616-4268-9c95-5713a854e646",
   "metadata": {},
   "source": [
    "### Simple Statistics"
   ]
  },
  {
   "cell_type": "code",
   "execution_count": null,
   "id": "70cce6ff-d2c8-4158-8615-326dee74c284",
   "metadata": {},
   "outputs": [],
   "source": []
  },
  {
   "cell_type": "code",
   "execution_count": null,
   "id": "2daa6fd4-a753-466f-b10a-14026e5590a9",
   "metadata": {},
   "outputs": [],
   "source": []
  },
  {
   "cell_type": "markdown",
   "id": "a3aa7e00-2dd5-4131-a713-6f76e919e561",
   "metadata": {},
   "source": [
    "### Visualize Attributes"
   ]
  },
  {
   "cell_type": "code",
   "execution_count": null,
   "id": "05f3ab4e-0375-40dd-9004-4ad8a1525388",
   "metadata": {},
   "outputs": [],
   "source": []
  },
  {
   "cell_type": "code",
   "execution_count": null,
   "id": "d190ff8e-2b33-4b05-b793-84373b51bae3",
   "metadata": {},
   "outputs": [],
   "source": []
  },
  {
   "cell_type": "markdown",
   "id": "fb524fc0-d227-411a-bd54-f0a596671bf3",
   "metadata": {},
   "source": [
    "### Explore Joint Attributes"
   ]
  },
  {
   "cell_type": "code",
   "execution_count": null,
   "id": "330d7a89-5a05-4227-be8e-bbffb75d44a6",
   "metadata": {},
   "outputs": [],
   "source": []
  },
  {
   "cell_type": "code",
   "execution_count": null,
   "id": "a92aa3df-dcce-425d-a6e9-23a8928f0d1d",
   "metadata": {},
   "outputs": [],
   "source": []
  },
  {
   "cell_type": "markdown",
   "id": "dc6fd612-c65d-4f33-b9b2-4c87b7916060",
   "metadata": {},
   "source": [
    "### Explore Attributes and Class"
   ]
  },
  {
   "cell_type": "code",
   "execution_count": null,
   "id": "fdb8caf2-7bab-4858-8795-f0c201ce6b6a",
   "metadata": {},
   "outputs": [],
   "source": []
  },
  {
   "cell_type": "code",
   "execution_count": null,
   "id": "35e25abb-7ac5-494e-b16a-0658c92b17d2",
   "metadata": {},
   "outputs": [],
   "source": []
  },
  {
   "cell_type": "markdown",
   "id": "f25d3e43-f98c-4afc-8122-601f7a8ae425",
   "metadata": {},
   "source": [
    "### New Features"
   ]
  },
  {
   "cell_type": "code",
   "execution_count": null,
   "id": "54c01169-5167-4d46-9ec3-f51061fed1eb",
   "metadata": {},
   "outputs": [],
   "source": []
  },
  {
   "cell_type": "code",
   "execution_count": null,
   "id": "d49455f1-e40e-456c-8d2a-918b48eb40be",
   "metadata": {},
   "outputs": [],
   "source": []
  },
  {
   "cell_type": "markdown",
   "id": "569e5ef6-8633-493f-a9e5-866f9e81087d",
   "metadata": {},
   "source": [
    "### Exceptional Work"
   ]
  },
  {
   "cell_type": "code",
   "execution_count": null,
   "id": "591aef2d-5896-4a7c-b47f-cecbc93bd3d5",
   "metadata": {},
   "outputs": [],
   "source": []
  }
 ],
 "metadata": {
  "kernelspec": {
   "display_name": "Python 3 (ipykernel)",
   "language": "python",
   "name": "python3"
  },
  "language_info": {
   "codemirror_mode": {
    "name": "ipython",
    "version": 3
   },
   "file_extension": ".py",
   "mimetype": "text/x-python",
   "name": "python",
   "nbconvert_exporter": "python",
   "pygments_lexer": "ipython3",
   "version": "3.9.12"
  }
 },
 "nbformat": 4,
 "nbformat_minor": 5
}
